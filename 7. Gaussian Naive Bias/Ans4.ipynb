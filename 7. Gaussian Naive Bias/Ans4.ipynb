{
 "cells": [
  {
   "cell_type": "markdown",
   "id": "500e9f2c-75d3-4865-aaa4-f45e1642d29a",
   "metadata": {},
   "source": [
    "# SMAI Assignment - 2\n",
    "\n",
    "## Question - `4` : Gaussian Naïve Bayes\n",
    "\n",
    "| | |\n",
    "|- | -|\n",
    "| Course | Statistical Methods in AI |\n",
    "| Release Date | `16.02.2023` |\n",
    "| Due Date | `24.02.2023` |"
   ]
  },
  {
   "cell_type": "markdown",
   "id": "086e75e8-62ac-4f03-8ff3-936f60dbb0be",
   "metadata": {},
   "source": [
    "This question will have you working and experimenting with the Gaussian Naïve Bayes classifier. Initially, you will calculate the priors and the parameters for the Gaussians. Then, you will use the likelihoods to classify the test data. Please note that use of `sklearn` implementations is only for the final question in the Experiments section.\n",
    "\n",
    "The dataset is simple and interesting, the [Wireless Indoor Localization Data Set](https://archive.ics.uci.edu/ml/datasets/Wireless+Indoor+Localization). An office has seven Wi-Fi routers and its signal strengths received from these routers categorize the location of the receiver (in one of four rooms). There are 7 attributes and a class label column that can take 4 values. The data is present in `wifiLocalization.txt`. It contains 2000 samples."
   ]
  },
  {
   "cell_type": "markdown",
   "id": "5034071d-eda2-401d-95f2-1957acb0d85c",
   "metadata": {},
   "source": [
    "### Imports"
   ]
  },
  {
   "cell_type": "code",
   "execution_count": 26,
   "id": "123c3de5-95b1-47c3-a3e6-0efc4b5c9cc9",
   "metadata": {},
   "outputs": [],
   "source": [
    "import numpy as np\n",
    "import matplotlib.pyplot as plt\n",
    "import pandas as pd\n",
    "\n",
    "# additional imports if necessary"
   ]
  },
  {
   "cell_type": "markdown",
   "id": "2ae1dd54-f718-424c-81ef-ba3a25dd09ef",
   "metadata": {},
   "source": [
    "### Load Data\n",
    "\n",
    "The data has been loaded onto a Pandas DataFrame. Try to get an initial feel for the data by using functions like `describe()`, `info()`, or maybe try to plot the data to check for any patterns.\n",
    "\n",
    "Note: To obtain the data from the UCI website, `wget` can be used followed by shuffling the samples using `shuf` and adding a header for easier reading via `pandas`. It is not necessary to view the data in a DataFrame and can be directly loaded onto NumPy as convenient."
   ]
  },
  {
   "cell_type": "code",
   "execution_count": 27,
   "id": "e64cdf6e-dc06-45f1-b770-8b8e61f267eb",
   "metadata": {},
   "outputs": [],
   "source": [
    "data = pd.read_csv('wifiLocalization.txt', sep='\\t')"
   ]
  },
  {
   "cell_type": "code",
   "execution_count": 28,
   "id": "f3a0a3dd-cb25-426d-bfed-d0c075aea95d",
   "metadata": {},
   "outputs": [
    {
     "data": {
      "text/html": [
       "<div>\n",
       "<style scoped>\n",
       "    .dataframe tbody tr th:only-of-type {\n",
       "        vertical-align: middle;\n",
       "    }\n",
       "\n",
       "    .dataframe tbody tr th {\n",
       "        vertical-align: top;\n",
       "    }\n",
       "\n",
       "    .dataframe thead th {\n",
       "        text-align: right;\n",
       "    }\n",
       "</style>\n",
       "<table border=\"1\" class=\"dataframe\">\n",
       "  <thead>\n",
       "    <tr style=\"text-align: right;\">\n",
       "      <th></th>\n",
       "      <th>ws1</th>\n",
       "      <th>ws2</th>\n",
       "      <th>ws3</th>\n",
       "      <th>ws4</th>\n",
       "      <th>ws5</th>\n",
       "      <th>ws6</th>\n",
       "      <th>ws7</th>\n",
       "      <th>r</th>\n",
       "    </tr>\n",
       "  </thead>\n",
       "  <tbody>\n",
       "    <tr>\n",
       "      <th>0</th>\n",
       "      <td>-47</td>\n",
       "      <td>-53</td>\n",
       "      <td>-54</td>\n",
       "      <td>-49</td>\n",
       "      <td>-63</td>\n",
       "      <td>-88</td>\n",
       "      <td>-85</td>\n",
       "      <td>3</td>\n",
       "    </tr>\n",
       "    <tr>\n",
       "      <th>1</th>\n",
       "      <td>-50</td>\n",
       "      <td>-57</td>\n",
       "      <td>-60</td>\n",
       "      <td>-43</td>\n",
       "      <td>-66</td>\n",
       "      <td>-77</td>\n",
       "      <td>-82</td>\n",
       "      <td>3</td>\n",
       "    </tr>\n",
       "    <tr>\n",
       "      <th>2</th>\n",
       "      <td>-44</td>\n",
       "      <td>-50</td>\n",
       "      <td>-57</td>\n",
       "      <td>-45</td>\n",
       "      <td>-61</td>\n",
       "      <td>-72</td>\n",
       "      <td>-67</td>\n",
       "      <td>2</td>\n",
       "    </tr>\n",
       "    <tr>\n",
       "      <th>3</th>\n",
       "      <td>-48</td>\n",
       "      <td>-59</td>\n",
       "      <td>-53</td>\n",
       "      <td>-45</td>\n",
       "      <td>-74</td>\n",
       "      <td>-81</td>\n",
       "      <td>-81</td>\n",
       "      <td>3</td>\n",
       "    </tr>\n",
       "    <tr>\n",
       "      <th>4</th>\n",
       "      <td>-60</td>\n",
       "      <td>-54</td>\n",
       "      <td>-59</td>\n",
       "      <td>-65</td>\n",
       "      <td>-66</td>\n",
       "      <td>-83</td>\n",
       "      <td>-84</td>\n",
       "      <td>1</td>\n",
       "    </tr>\n",
       "  </tbody>\n",
       "</table>\n",
       "</div>"
      ],
      "text/plain": [
       "   ws1  ws2  ws3  ws4  ws5  ws6  ws7  r\n",
       "0  -47  -53  -54  -49  -63  -88  -85  3\n",
       "1  -50  -57  -60  -43  -66  -77  -82  3\n",
       "2  -44  -50  -57  -45  -61  -72  -67  2\n",
       "3  -48  -59  -53  -45  -74  -81  -81  3\n",
       "4  -60  -54  -59  -65  -66  -83  -84  1"
      ]
     },
     "execution_count": 28,
     "metadata": {},
     "output_type": "execute_result"
    }
   ],
   "source": [
    "# your code here\n",
    "data.head(5)"
   ]
  },
  {
   "cell_type": "markdown",
   "id": "c708f659-b930-4219-b8d4-46fffc843fb0",
   "metadata": {},
   "source": [
    "### Splitting the Data\n",
    "\n",
    "It is a good practice to split the data into training and test sets. This is to ensure that the model is not overfitting to the training data. The test set is used to evaluate the performance of the model on unseen data. The test set is not used to train the model in any way. The test set is only used to evaluate the performance of the model. You may use the `train_test_split` function from `sklearn.model_selection` to split the data into training and test sets.\n",
    "\n",
    "It is a good idea to move your data to NumPy arrays now as it will make computing easier."
   ]
  },
  {
   "cell_type": "code",
   "execution_count": 29,
   "id": "527e95e0-cf05-467a-9144-36664968277a",
   "metadata": {},
   "outputs": [
    {
     "name": "stdout",
     "output_type": "stream",
     "text": [
      "X_train: (1600, 7)\n",
      "y_train: (1600, 1)\n",
      "\n",
      "X_test: (400, 7)\n",
      "y_test: (400, 1)\n"
     ]
    }
   ],
   "source": [
    "# your code here\n",
    "from sklearn.model_selection import train_test_split\n",
    "X = data.iloc[:, 0:7]\n",
    "y = data.iloc[:,7:]\n",
    "X_train, X_test, y_train, y_test = train_test_split(X, y, test_size=0.2, random_state=1)\n",
    "\n",
    "print(f'X_train: {X_train.shape}')\n",
    "print(f'y_train: {y_train.shape}')\n",
    "print()\n",
    "\n",
    "print(f'X_test: {X_test.shape}')\n",
    "print(f'y_test: {y_test.shape}')"
   ]
  },
  {
   "cell_type": "code",
   "execution_count": 30,
   "id": "bd38d551",
   "metadata": {},
   "outputs": [],
   "source": [
    "y_train = y_train.reset_index(drop=True)\n",
    "X_train = X_train.reset_index(drop=True)\n",
    "X_test = X_test.reset_index(drop=True)\n",
    "y_test = y_test.reset_index(drop=True)\n",
    "\n"
   ]
  },
  {
   "cell_type": "code",
   "execution_count": 31,
   "id": "0a3fa5b7",
   "metadata": {},
   "outputs": [
    {
     "data": {
      "text/html": [
       "<div>\n",
       "<style scoped>\n",
       "    .dataframe tbody tr th:only-of-type {\n",
       "        vertical-align: middle;\n",
       "    }\n",
       "\n",
       "    .dataframe tbody tr th {\n",
       "        vertical-align: top;\n",
       "    }\n",
       "\n",
       "    .dataframe thead th {\n",
       "        text-align: right;\n",
       "    }\n",
       "</style>\n",
       "<table border=\"1\" class=\"dataframe\">\n",
       "  <thead>\n",
       "    <tr style=\"text-align: right;\">\n",
       "      <th></th>\n",
       "      <th>r</th>\n",
       "      <th>ws1</th>\n",
       "      <th>ws2</th>\n",
       "      <th>ws3</th>\n",
       "      <th>ws4</th>\n",
       "      <th>ws5</th>\n",
       "      <th>ws6</th>\n",
       "      <th>ws7</th>\n",
       "    </tr>\n",
       "  </thead>\n",
       "  <tbody>\n",
       "    <tr>\n",
       "      <th>0</th>\n",
       "      <td>3</td>\n",
       "      <td>-47</td>\n",
       "      <td>-53</td>\n",
       "      <td>-54</td>\n",
       "      <td>-49</td>\n",
       "      <td>-63</td>\n",
       "      <td>-88</td>\n",
       "      <td>-85</td>\n",
       "    </tr>\n",
       "    <tr>\n",
       "      <th>1</th>\n",
       "      <td>4</td>\n",
       "      <td>-59</td>\n",
       "      <td>-54</td>\n",
       "      <td>-49</td>\n",
       "      <td>-58</td>\n",
       "      <td>-52</td>\n",
       "      <td>-83</td>\n",
       "      <td>-93</td>\n",
       "    </tr>\n",
       "  </tbody>\n",
       "</table>\n",
       "</div>"
      ],
      "text/plain": [
       "   r  ws1  ws2  ws3  ws4  ws5  ws6  ws7\n",
       "0  3  -47  -53  -54  -49  -63  -88  -85\n",
       "1  4  -59  -54  -49  -58  -52  -83  -93"
      ]
     },
     "execution_count": 31,
     "metadata": {},
     "output_type": "execute_result"
    }
   ],
   "source": [
    "res =  pd.concat([y_train,X_train], axis=1)\n",
    "res.head(2)"
   ]
  },
  {
   "cell_type": "code",
   "execution_count": 32,
   "id": "b752e013",
   "metadata": {},
   "outputs": [
    {
     "data": {
      "text/html": [
       "<div>\n",
       "<style scoped>\n",
       "    .dataframe tbody tr th:only-of-type {\n",
       "        vertical-align: middle;\n",
       "    }\n",
       "\n",
       "    .dataframe tbody tr th {\n",
       "        vertical-align: top;\n",
       "    }\n",
       "\n",
       "    .dataframe thead th {\n",
       "        text-align: right;\n",
       "    }\n",
       "</style>\n",
       "<table border=\"1\" class=\"dataframe\">\n",
       "  <thead>\n",
       "    <tr style=\"text-align: right;\">\n",
       "      <th></th>\n",
       "      <th>ws1</th>\n",
       "      <th>ws2</th>\n",
       "      <th>ws3</th>\n",
       "      <th>ws4</th>\n",
       "      <th>ws5</th>\n",
       "      <th>ws6</th>\n",
       "      <th>ws7</th>\n",
       "    </tr>\n",
       "  </thead>\n",
       "  <tbody>\n",
       "    <tr>\n",
       "      <th>0</th>\n",
       "      <td>-59</td>\n",
       "      <td>-54</td>\n",
       "      <td>-49</td>\n",
       "      <td>-58</td>\n",
       "      <td>-52</td>\n",
       "      <td>-83</td>\n",
       "      <td>-93</td>\n",
       "    </tr>\n",
       "    <tr>\n",
       "      <th>1</th>\n",
       "      <td>-59</td>\n",
       "      <td>-53</td>\n",
       "      <td>-49</td>\n",
       "      <td>-56</td>\n",
       "      <td>-47</td>\n",
       "      <td>-87</td>\n",
       "      <td>-82</td>\n",
       "    </tr>\n",
       "    <tr>\n",
       "      <th>2</th>\n",
       "      <td>-55</td>\n",
       "      <td>-48</td>\n",
       "      <td>-49</td>\n",
       "      <td>-62</td>\n",
       "      <td>-55</td>\n",
       "      <td>-86</td>\n",
       "      <td>-91</td>\n",
       "    </tr>\n",
       "    <tr>\n",
       "      <th>3</th>\n",
       "      <td>-58</td>\n",
       "      <td>-51</td>\n",
       "      <td>-56</td>\n",
       "      <td>-58</td>\n",
       "      <td>-50</td>\n",
       "      <td>-88</td>\n",
       "      <td>-88</td>\n",
       "    </tr>\n",
       "    <tr>\n",
       "      <th>4</th>\n",
       "      <td>-57</td>\n",
       "      <td>-55</td>\n",
       "      <td>-45</td>\n",
       "      <td>-59</td>\n",
       "      <td>-50</td>\n",
       "      <td>-85</td>\n",
       "      <td>-85</td>\n",
       "    </tr>\n",
       "  </tbody>\n",
       "</table>\n",
       "</div>"
      ],
      "text/plain": [
       "   ws1  ws2  ws3  ws4  ws5  ws6  ws7\n",
       "0  -59  -54  -49  -58  -52  -83  -93\n",
       "1  -59  -53  -49  -56  -47  -87  -82\n",
       "2  -55  -48  -49  -62  -55  -86  -91\n",
       "3  -58  -51  -56  -58  -50  -88  -88\n",
       "4  -57  -55  -45  -59  -50  -85  -85"
      ]
     },
     "execution_count": 32,
     "metadata": {},
     "output_type": "execute_result"
    }
   ],
   "source": [
    "c1_train = res[res['r'] == 1].reset_index(drop=True).iloc[:, 1:]\n",
    "c2_train = res[res['r'] == 2].reset_index(drop=True).iloc[:, 1:]\n",
    "c3_train = res[res['r'] == 3].reset_index(drop=True).iloc[:, 1:]\n",
    "c4_train = res[res['r'] == 4].reset_index(drop=True).iloc[:, 1:]\n",
    "c4_train.head()\n",
    "\n"
   ]
  },
  {
   "cell_type": "code",
   "execution_count": 33,
   "id": "77cc1b99",
   "metadata": {},
   "outputs": [],
   "source": [
    "\n",
    "mean_row1 = pd.DataFrame()\n",
    "mean_row2 = pd.DataFrame()\n",
    "mean_row3 = pd.DataFrame()\n",
    "mean_row4 = pd.DataFrame()\n",
    "\n",
    "var_row1 = pd.DataFrame()\n",
    "var_row2 = pd.DataFrame()\n",
    "var_row3 = pd.DataFrame()\n",
    "var_row4 = pd.DataFrame()\n",
    "\n",
    "mean_row1 = c1_train.mean()\n",
    "var_row1 = c1_train.var()\n",
    "\n",
    "mean_row2 = c2_train.mean()\n",
    "var_row2 = c2_train.var()\n",
    "\n",
    "mean_row3 = c3_train.mean()\n",
    "var_row3 = c3_train.var()\n",
    "\n",
    "mean_row4 = c4_train.mean()\n",
    "var_row4 = c4_train.var()"
   ]
  },
  {
   "cell_type": "code",
   "execution_count": 34,
   "id": "2b51b8c3",
   "metadata": {},
   "outputs": [],
   "source": [
    "c1_m_v = pd.concat([mean_row1,var_row1],axis=1)\n",
    "c1_m_v.columns = ['mean', 'variance']\n",
    "\n",
    "c2_m_v = pd.concat([mean_row2,var_row2],axis=1)\n",
    "c2_m_v.columns = ['mean', 'variance']\n",
    "\n",
    "c3_m_v = pd.concat([mean_row3,var_row3],axis=1)\n",
    "c3_m_v.columns = ['mean', 'variance']\n",
    "\n",
    "c4_m_v = pd.concat([mean_row4,var_row4],axis=1)\n",
    "c4_m_v.columns = ['mean', 'variance']"
   ]
  },
  {
   "cell_type": "code",
   "execution_count": 35,
   "id": "5f58affc",
   "metadata": {},
   "outputs": [
    {
     "data": {
      "text/html": [
       "<div>\n",
       "<style scoped>\n",
       "    .dataframe tbody tr th:only-of-type {\n",
       "        vertical-align: middle;\n",
       "    }\n",
       "\n",
       "    .dataframe tbody tr th {\n",
       "        vertical-align: top;\n",
       "    }\n",
       "\n",
       "    .dataframe thead th {\n",
       "        text-align: right;\n",
       "    }\n",
       "</style>\n",
       "<table border=\"1\" class=\"dataframe\">\n",
       "  <thead>\n",
       "    <tr style=\"text-align: right;\">\n",
       "      <th></th>\n",
       "      <th>mean</th>\n",
       "      <th>variance</th>\n",
       "    </tr>\n",
       "  </thead>\n",
       "  <tbody>\n",
       "    <tr>\n",
       "      <th>ws1</th>\n",
       "      <td>-62.566085</td>\n",
       "      <td>11.436247</td>\n",
       "    </tr>\n",
       "    <tr>\n",
       "      <th>ws2</th>\n",
       "      <td>-56.299252</td>\n",
       "      <td>9.865224</td>\n",
       "    </tr>\n",
       "    <tr>\n",
       "      <th>ws3</th>\n",
       "      <td>-60.523691</td>\n",
       "      <td>13.245062</td>\n",
       "    </tr>\n",
       "    <tr>\n",
       "      <th>ws4</th>\n",
       "      <td>-64.187032</td>\n",
       "      <td>12.847431</td>\n",
       "    </tr>\n",
       "    <tr>\n",
       "      <th>ws5</th>\n",
       "      <td>-70.384040</td>\n",
       "      <td>21.557145</td>\n",
       "    </tr>\n",
       "    <tr>\n",
       "      <th>ws6</th>\n",
       "      <td>-82.845387</td>\n",
       "      <td>14.401035</td>\n",
       "    </tr>\n",
       "    <tr>\n",
       "      <th>ws7</th>\n",
       "      <td>-83.962594</td>\n",
       "      <td>15.306097</td>\n",
       "    </tr>\n",
       "  </tbody>\n",
       "</table>\n",
       "</div>"
      ],
      "text/plain": [
       "          mean   variance\n",
       "ws1 -62.566085  11.436247\n",
       "ws2 -56.299252   9.865224\n",
       "ws3 -60.523691  13.245062\n",
       "ws4 -64.187032  12.847431\n",
       "ws5 -70.384040  21.557145\n",
       "ws6 -82.845387  14.401035\n",
       "ws7 -83.962594  15.306097"
      ]
     },
     "execution_count": 35,
     "metadata": {},
     "output_type": "execute_result"
    }
   ],
   "source": [
    "c1_m_v.head(7)"
   ]
  },
  {
   "attachments": {},
   "cell_type": "markdown",
   "id": "317d2214",
   "metadata": {},
   "source": [
    "### Calculate priors\n",
    "\n",
    "Write a function to calculate the priors for each class."
   ]
  },
  {
   "cell_type": "code",
   "execution_count": 36,
   "id": "ed302627",
   "metadata": {},
   "outputs": [],
   "source": [
    "p1 = len(c1_train) / len( X_train)\n",
    "p2 = len(c2_train) / len( X_train)\n",
    "p3 = len(c3_train) / len( X_train)\n",
    "p4 = len(c4_train) / len( X_train)"
   ]
  },
  {
   "cell_type": "code",
   "execution_count": 37,
   "id": "23b7f300",
   "metadata": {},
   "outputs": [],
   "source": [
    "m = c1_m_v.iloc[0, 0]"
   ]
  },
  {
   "attachments": {},
   "cell_type": "markdown",
   "id": "0c53868c",
   "metadata": {},
   "source": [
    "### Likelihood + Classification\n",
    "\n",
    "Given a test sample, write a function to get the likelihoods for each class in the sample. Use the Gaussian parameters and priors calculated above. Then compute the likelihood that the sample belongs to each class and return the class with the highest likelihood.\n",
    "\n",
    "What is a common problem with the likelihoods? How can you fix it? Redo the classification with the fixed likelihoods. (You can either write another function or modify the existing one after mentioning the reason for the change)"
   ]
  },
  {
   "cell_type": "code",
   "execution_count": 38,
   "id": "a167f475",
   "metadata": {},
   "outputs": [],
   "source": [
    "import math\n",
    "\n",
    "def gaussian_probability(x, mu, var):\n",
    "    exponent = math.exp(-((x - mu) ** 2) / (2 * var))\n",
    "    coefficient = 1 / math.sqrt(2 * math.pi * var)\n",
    "    return coefficient * exponent\n",
    "\n",
    "\n",
    "def find_max_index(lst) -> int:\n",
    "    max_value = max(lst)\n",
    "    max_index = lst.index(max_value)\n",
    "    return max_index\n",
    "\n",
    "def Predict_class(data_test):\n",
    "    p1 = len(c1_train) / len( X_train)\n",
    "    p2 = len(c2_train) / len( X_train)\n",
    "    p3 = len(c3_train) / len( X_train)\n",
    "    p4 = len(c4_train) / len( X_train)\n",
    "    p =[]\n",
    "    for i  in range(len(data_test)):\n",
    "        x = data_test[i]\n",
    "        m = c1_m_v.iloc[i , 0]\n",
    "        var = c1_m_v.iloc[i , 1]\n",
    "        p1 *= gaussian_probability(x,m,var)\n",
    "        \n",
    "        m = c2_m_v.iloc[i , 0]\n",
    "        var = c2_m_v.iloc[i , 1]\n",
    "        p2 *= gaussian_probability(x,m,var)\n",
    "        \n",
    "        m = c3_m_v.iloc[i , 0]\n",
    "        var = c3_m_v.iloc[i , 1]\n",
    "        p3 *= gaussian_probability(x,m,var)\n",
    "        \n",
    "        m = c4_m_v.iloc[i , 0]\n",
    "        var = c4_m_v.iloc[i , 1]\n",
    "        p4 *= gaussian_probability(x,m,var)\n",
    "    p = [p1,p2,p3,p4]\n",
    "    index =find_max_index(p)\n",
    "    return index + 1    \n",
    "\n",
    "    \n",
    "    # return 0\n"
   ]
  },
  {
   "cell_type": "code",
   "execution_count": 39,
   "id": "04ad816e",
   "metadata": {},
   "outputs": [],
   "source": [
    "res_predict = []\n",
    "\n",
    "for index, row in X_test.iterrows():\n",
    "    res_predict.append(Predict_class(row))"
   ]
  },
  {
   "cell_type": "code",
   "execution_count": 40,
   "id": "6e6b606d",
   "metadata": {},
   "outputs": [],
   "source": [
    "res_predict = pd.DataFrame(res_predict)"
   ]
  },
  {
   "cell_type": "code",
   "execution_count": 41,
   "id": "7dce6484",
   "metadata": {},
   "outputs": [],
   "source": [
    "res_predict.columns = ['predicted']"
   ]
  },
  {
   "cell_type": "code",
   "execution_count": 42,
   "id": "1e380621",
   "metadata": {},
   "outputs": [
    {
     "data": {
      "text/html": [
       "<div>\n",
       "<style scoped>\n",
       "    .dataframe tbody tr th:only-of-type {\n",
       "        vertical-align: middle;\n",
       "    }\n",
       "\n",
       "    .dataframe tbody tr th {\n",
       "        vertical-align: top;\n",
       "    }\n",
       "\n",
       "    .dataframe thead th {\n",
       "        text-align: right;\n",
       "    }\n",
       "</style>\n",
       "<table border=\"1\" class=\"dataframe\">\n",
       "  <thead>\n",
       "    <tr style=\"text-align: right;\">\n",
       "      <th></th>\n",
       "      <th>predicted</th>\n",
       "    </tr>\n",
       "  </thead>\n",
       "  <tbody>\n",
       "    <tr>\n",
       "      <th>0</th>\n",
       "      <td>3</td>\n",
       "    </tr>\n",
       "    <tr>\n",
       "      <th>1</th>\n",
       "      <td>3</td>\n",
       "    </tr>\n",
       "    <tr>\n",
       "      <th>2</th>\n",
       "      <td>4</td>\n",
       "    </tr>\n",
       "    <tr>\n",
       "      <th>3</th>\n",
       "      <td>2</td>\n",
       "    </tr>\n",
       "    <tr>\n",
       "      <th>4</th>\n",
       "      <td>3</td>\n",
       "    </tr>\n",
       "  </tbody>\n",
       "</table>\n",
       "</div>"
      ],
      "text/plain": [
       "   predicted\n",
       "0          3\n",
       "1          3\n",
       "2          4\n",
       "3          2\n",
       "4          3"
      ]
     },
     "execution_count": 42,
     "metadata": {},
     "output_type": "execute_result"
    }
   ],
   "source": [
    "res_predict.head()"
   ]
  },
  {
   "cell_type": "code",
   "execution_count": 43,
   "id": "1c39b21f",
   "metadata": {},
   "outputs": [],
   "source": [
    "test_data = pd.concat([X_test,y_test,res_predict],axis=1)"
   ]
  },
  {
   "cell_type": "code",
   "execution_count": 44,
   "id": "ec00afe2",
   "metadata": {},
   "outputs": [
    {
     "name": "stdout",
     "output_type": "stream",
     "text": [
      "Correct: 396\n",
      "Incorrect: 4\n",
      "Accuracy: 0.99\n"
     ]
    }
   ],
   "source": [
    "correct = 0\n",
    "total = test_data.shape[0]\n",
    "\n",
    "for row in test_data.iterrows():\n",
    "   row = row[1]\n",
    "   if row['r'] == row['predicted']:\n",
    "      correct += 1\n",
    "\n",
    "print('Correct:', correct)\n",
    "print('Incorrect:', total - correct)\n",
    "print('Accuracy:', correct/total)"
   ]
  },
  {
   "cell_type": "markdown",
   "id": "c84e4e40-8ef7-4958-a6c3-2bd606c716fc",
   "metadata": {},
   "source": [
    "### Experiments\n",
    "\n",
    "1. Estimate your model on the training data.\n",
    "2. Plot the Gaussian probability density functions for each class after estimation.\n",
    "3. Classify the test data using your model.\n",
    "4. Pick a few samples from the test set that were misclassified and plot them along with the Gaussian probability density functions for each class. What do you observe?\n",
    "5. Find if there are any features that are redundant. If so, remove them and repeat the experiments. How does the performance change?\n",
    "6. Conversely, are there certain features that overpower the likelihood scores independently? Test this hypothesis empirically by only using hat/those feature(s) and repeating the experiments. How does the performance change?\n",
    "7. Compare your results with the `scikit-learn` implementation. You can use the `GaussianNB` class from `sklearn.naive_bayes`. You can use the `score` function to get the accuracy of the model on the test set.\n",
    "8. (Optional) Try other Naïve Bayes classifiers from [`sklearn.naive_bayes`](https://scikit-learn.org/stable/modules/classes.html#module-sklearn.naive_bayes) and compare the results."
   ]
  },
  {
   "cell_type": "code",
   "execution_count": null,
   "id": "e01ace55",
   "metadata": {},
   "outputs": [],
   "source": []
  },
  {
   "attachments": {},
   "cell_type": "markdown",
   "id": "5e5935c7",
   "metadata": {},
   "source": [
    "## 7"
   ]
  },
  {
   "cell_type": "code",
   "execution_count": 45,
   "id": "58fa042d",
   "metadata": {},
   "outputs": [],
   "source": [
    "y_train = y_train['r'].to_numpy()"
   ]
  },
  {
   "cell_type": "code",
   "execution_count": 46,
   "id": "98c17baa-7cba-4a85-867b-96778eb9dcb9",
   "metadata": {},
   "outputs": [
    {
     "data": {
      "text/html": [
       "<style>#sk-container-id-2 {color: black;background-color: white;}#sk-container-id-2 pre{padding: 0;}#sk-container-id-2 div.sk-toggleable {background-color: white;}#sk-container-id-2 label.sk-toggleable__label {cursor: pointer;display: block;width: 100%;margin-bottom: 0;padding: 0.3em;box-sizing: border-box;text-align: center;}#sk-container-id-2 label.sk-toggleable__label-arrow:before {content: \"▸\";float: left;margin-right: 0.25em;color: #696969;}#sk-container-id-2 label.sk-toggleable__label-arrow:hover:before {color: black;}#sk-container-id-2 div.sk-estimator:hover label.sk-toggleable__label-arrow:before {color: black;}#sk-container-id-2 div.sk-toggleable__content {max-height: 0;max-width: 0;overflow: hidden;text-align: left;background-color: #f0f8ff;}#sk-container-id-2 div.sk-toggleable__content pre {margin: 0.2em;color: black;border-radius: 0.25em;background-color: #f0f8ff;}#sk-container-id-2 input.sk-toggleable__control:checked~div.sk-toggleable__content {max-height: 200px;max-width: 100%;overflow: auto;}#sk-container-id-2 input.sk-toggleable__control:checked~label.sk-toggleable__label-arrow:before {content: \"▾\";}#sk-container-id-2 div.sk-estimator input.sk-toggleable__control:checked~label.sk-toggleable__label {background-color: #d4ebff;}#sk-container-id-2 div.sk-label input.sk-toggleable__control:checked~label.sk-toggleable__label {background-color: #d4ebff;}#sk-container-id-2 input.sk-hidden--visually {border: 0;clip: rect(1px 1px 1px 1px);clip: rect(1px, 1px, 1px, 1px);height: 1px;margin: -1px;overflow: hidden;padding: 0;position: absolute;width: 1px;}#sk-container-id-2 div.sk-estimator {font-family: monospace;background-color: #f0f8ff;border: 1px dotted black;border-radius: 0.25em;box-sizing: border-box;margin-bottom: 0.5em;}#sk-container-id-2 div.sk-estimator:hover {background-color: #d4ebff;}#sk-container-id-2 div.sk-parallel-item::after {content: \"\";width: 100%;border-bottom: 1px solid gray;flex-grow: 1;}#sk-container-id-2 div.sk-label:hover label.sk-toggleable__label {background-color: #d4ebff;}#sk-container-id-2 div.sk-serial::before {content: \"\";position: absolute;border-left: 1px solid gray;box-sizing: border-box;top: 0;bottom: 0;left: 50%;z-index: 0;}#sk-container-id-2 div.sk-serial {display: flex;flex-direction: column;align-items: center;background-color: white;padding-right: 0.2em;padding-left: 0.2em;position: relative;}#sk-container-id-2 div.sk-item {position: relative;z-index: 1;}#sk-container-id-2 div.sk-parallel {display: flex;align-items: stretch;justify-content: center;background-color: white;position: relative;}#sk-container-id-2 div.sk-item::before, #sk-container-id-2 div.sk-parallel-item::before {content: \"\";position: absolute;border-left: 1px solid gray;box-sizing: border-box;top: 0;bottom: 0;left: 50%;z-index: -1;}#sk-container-id-2 div.sk-parallel-item {display: flex;flex-direction: column;z-index: 1;position: relative;background-color: white;}#sk-container-id-2 div.sk-parallel-item:first-child::after {align-self: flex-end;width: 50%;}#sk-container-id-2 div.sk-parallel-item:last-child::after {align-self: flex-start;width: 50%;}#sk-container-id-2 div.sk-parallel-item:only-child::after {width: 0;}#sk-container-id-2 div.sk-dashed-wrapped {border: 1px dashed gray;margin: 0 0.4em 0.5em 0.4em;box-sizing: border-box;padding-bottom: 0.4em;background-color: white;}#sk-container-id-2 div.sk-label label {font-family: monospace;font-weight: bold;display: inline-block;line-height: 1.2em;}#sk-container-id-2 div.sk-label-container {text-align: center;}#sk-container-id-2 div.sk-container {/* jupyter's `normalize.less` sets `[hidden] { display: none; }` but bootstrap.min.css set `[hidden] { display: none !important; }` so we also need the `!important` here to be able to override the default hidden behavior on the sphinx rendered scikit-learn.org. See: https://github.com/scikit-learn/scikit-learn/issues/21755 */display: inline-block !important;position: relative;}#sk-container-id-2 div.sk-text-repr-fallback {display: none;}</style><div id=\"sk-container-id-2\" class=\"sk-top-container\"><div class=\"sk-text-repr-fallback\"><pre>GaussianNB()</pre><b>In a Jupyter environment, please rerun this cell to show the HTML representation or trust the notebook. <br />On GitHub, the HTML representation is unable to render, please try loading this page with nbviewer.org.</b></div><div class=\"sk-container\" hidden><div class=\"sk-item\"><div class=\"sk-estimator sk-toggleable\"><input class=\"sk-toggleable__control sk-hidden--visually\" id=\"sk-estimator-id-2\" type=\"checkbox\" checked><label for=\"sk-estimator-id-2\" class=\"sk-toggleable__label sk-toggleable__label-arrow\">GaussianNB</label><div class=\"sk-toggleable__content\"><pre>GaussianNB()</pre></div></div></div></div></div>"
      ],
      "text/plain": [
       "GaussianNB()"
      ]
     },
     "execution_count": 46,
     "metadata": {},
     "output_type": "execute_result"
    }
   ],
   "source": [
    "# your code here\n",
    "from sklearn.naive_bayes import GaussianNB  \n",
    "classifier = GaussianNB()  \n",
    "classifier.fit(X_train, y_train) "
   ]
  },
  {
   "cell_type": "code",
   "execution_count": 47,
   "id": "1fe87699",
   "metadata": {},
   "outputs": [],
   "source": [
    "y_pred = classifier.predict(X_test)  "
   ]
  },
  {
   "cell_type": "code",
   "execution_count": 48,
   "id": "a64da5e4",
   "metadata": {},
   "outputs": [
    {
     "data": {
      "text/plain": [
       "0.99"
      ]
     },
     "execution_count": 48,
     "metadata": {},
     "output_type": "execute_result"
    }
   ],
   "source": [
    "\n",
    "from sklearn.metrics import accuracy_score\n",
    "\n",
    "accuracy_score(y_test, y_pred) "
   ]
  }
 ],
 "metadata": {
  "kernelspec": {
   "display_name": "Python 3",
   "language": "python",
   "name": "python3"
  },
  "language_info": {
   "codemirror_mode": {
    "name": "ipython",
    "version": 3
   },
   "file_extension": ".py",
   "mimetype": "text/x-python",
   "name": "python",
   "nbconvert_exporter": "python",
   "pygments_lexer": "ipython3",
   "version": "3.11.2"
  },
  "vscode": {
   "interpreter": {
    "hash": "3378b70e3e1cc4fa50c97dcab40b6d8ee0b0d986f6116d7f65fab3367a9e97a3"
   }
  }
 },
 "nbformat": 4,
 "nbformat_minor": 5
}
