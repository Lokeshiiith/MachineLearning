{
 "cells": [
  {
   "cell_type": "markdown",
   "metadata": {
    "id": "NSd3vc8oPt3b"
   },
   "source": [
    "# Assignment 1\n",
    "## Question `1` (K-Nearest Neighbour)\n",
    "\n",
    "| | |\n",
    "|-|-|\n",
    "| Course | Statistical Methods in AI |\n",
    "| Release Date | `19.01.2023` |\n",
    "| Due Date | `29.01.2023` |\n",
    "\n",
    "### Instructions:\n",
    "1.   Assignment must be implemented using python notebook only (Colab , VsCode , Jupyter etc.)\n",
    "2.   You are allowed to use libraries for data preprocessing (numpy, pandas, nltk etc) and for algorithms as well (sklearn etc). You are not however allowed to directly use classifier models.\n",
    "3.   The performance of the model will hold weightage but you will also be graded largely for data preprocessing steps , explanations , feature selection for vectors etc.\n",
    "4.   Strict plagiarism checking will be done. An F will be awarded for plagiarism.\n",
    "\n",
    "### The Dataset\n",
    "The dataset is avaible in the zip file which is a collection of *11099 tweets*. The data will be in the form of a csv file. The ground truth is also given in the zip file which corresponds to whether a tweet was popular or not. Since the task involves selecting features yourself to vectorize a tweet , we suggest some data analysis of the columns you consider important.\n",
    "<br><br>\n",
    "\n",
    "### The Task\n",
    "You have to build a classifier which can predict the popularity of the tweet, i.e , if the tweet was popular or not. You are required to use **KNN** algorithm to build the classifier and cannot use any inbuilt classifier. All columns are supposed to be analyzed , filtered and preprocessed to determine its importance as a feature in the vector for every tweet (Not every column will be useful).<br>\n",
    "The Data contains the **raw text of the tweet**(in the text column) as well as other **meta data** like likes count , user followers count. Note that it might be useful to **create new columns** with useful information. For example, *number of hashtags* might be useful but is not directly present as a column.<br>\n",
    "There are 3 main sub parts:\n",
    "1. *Vectorize tweets using only meta data* - likes , user followers count , and other created data\n",
    "2. *Vectorize tweets using only it's text*. This segment will require NLP techniques to clean the text and extract a vector using a BoW model. Here is a useful link for the same - [Tf-Idf](https://towardsdatascience.com/text-vectorization-term-frequency-inverse-document-frequency-tfidf-5a3f9604da6d). Since these vectors will be very large , we recommend reducing their dimensinality (~10 - 25). Hint: [Dimentionality Reduction](https://jonathan-hui.medium.com/machine-learning-singular-value-decomposition-svd-principal-component-analysis-pca-1d45e885e491). Please note that for this also you are allowed to use libraries.\n",
    "\n",
    "3. *Combining the vectors from above two techinques to create one bigger vector*\n",
    "<br>\n",
    "\n",
    "\n",
    "Using KNN on these vectors build a classifier to predict the popularity of the tweet and report accuracies on each of the three methods as well as analysis. You can use sklearn's Nearest Neighbors and need not write KNN from scratch. (However you cannot use the classifier directly). You are expected to try the classifier for different number of neighbors and identify the optimal K value."
   ]
  },
  {
   "cell_type": "markdown",
   "metadata": {
    "id": "0LJvylX8680U"
   },
   "source": [
    "## Import necessary libraries"
   ]
  },
  {
   "cell_type": "code",
   "execution_count": 2,
   "metadata": {
    "id": "UrD1GJ6-YA5M"
   },
   "outputs": [],
   "source": [
    "import pandas as pd\n",
    "import numpy as np\n",
    "import json\n",
    "from sklearn.neighbors import NearestNeighbors\n",
    "from sklearn.model_selection import train_test_split\n",
    "from sklearn.neighbors import KNeighborsClassifier\n",
    "from sklearn.metrics import accuracy_score\n",
    "import math \n",
    "from sklearn import preprocessing\n",
    "import sklearn\n",
    "import scipy\n",
    "import statistics\n",
    "import matplotlib.pyplot as plt \n",
    "from sklearn.metrics.pairwise import euclidean_distances\n",
    "\n",
    "from sklearn.preprocessing import MinMaxScaler\n"
   ]
  },
  {
   "cell_type": "markdown",
   "metadata": {
    "id": "eoakVIVW7EOT"
   },
   "source": [
    "## Load and display the data"
   ]
  },
  {
   "cell_type": "code",
   "execution_count": 3,
   "metadata": {
    "id": "YRwXxW4WwEL8"
   },
   "outputs": [
    {
     "name": "stdout",
     "output_type": "stream",
     "text": [
      "Shape of dataframe : (11099, 21)\n",
      "Display dataframe\n"
     ]
    },
    {
     "data": {
      "text/html": [
       "<div>\n",
       "<style scoped>\n",
       "    .dataframe tbody tr th:only-of-type {\n",
       "        vertical-align: middle;\n",
       "    }\n",
       "\n",
       "    .dataframe tbody tr th {\n",
       "        vertical-align: top;\n",
       "    }\n",
       "\n",
       "    .dataframe thead th {\n",
       "        text-align: right;\n",
       "    }\n",
       "</style>\n",
       "<table border=\"1\" class=\"dataframe\">\n",
       "  <thead>\n",
       "    <tr style=\"text-align: right;\">\n",
       "      <th></th>\n",
       "      <th>created_at</th>\n",
       "      <th>id</th>\n",
       "      <th>id_str</th>\n",
       "      <th>text</th>\n",
       "      <th>truncated</th>\n",
       "      <th>entities</th>\n",
       "      <th>metadata</th>\n",
       "      <th>source</th>\n",
       "      <th>is_quote_status</th>\n",
       "      <th>retweet_count</th>\n",
       "      <th>...</th>\n",
       "      <th>lang</th>\n",
       "      <th>user_name</th>\n",
       "      <th>user_screen_name</th>\n",
       "      <th>user_followers_count</th>\n",
       "      <th>user_friends_count</th>\n",
       "      <th>user_listed_count</th>\n",
       "      <th>user_created_at</th>\n",
       "      <th>user_favourites_count</th>\n",
       "      <th>user_verified</th>\n",
       "      <th>user_statuses_count</th>\n",
       "    </tr>\n",
       "  </thead>\n",
       "  <tbody>\n",
       "    <tr>\n",
       "      <th>0</th>\n",
       "      <td>Tue Jul 31 13:34:34 +0000 2018</td>\n",
       "      <td>1.024290e+18</td>\n",
       "      <td>1.024290e+18</td>\n",
       "      <td>RT @EdwardTHardy: The 7th US Circuit Court of ...</td>\n",
       "      <td>False</td>\n",
       "      <td>{'hashtags': [], 'symbols': [], 'user_mentions...</td>\n",
       "      <td>{'iso_language_code': 'en', 'result_type': 're...</td>\n",
       "      <td>&lt;a href=\"http://twitter.com/download/android\" ...</td>\n",
       "      <td>False</td>\n",
       "      <td>113</td>\n",
       "      <td>...</td>\n",
       "      <td>en</td>\n",
       "      <td>Sherry Wahl</td>\n",
       "      <td>queenfancygirl</td>\n",
       "      <td>153</td>\n",
       "      <td>264</td>\n",
       "      <td>7</td>\n",
       "      <td>Thu Mar 18 19:16:31 +0000 2010</td>\n",
       "      <td>32984</td>\n",
       "      <td>False</td>\n",
       "      <td>31308</td>\n",
       "    </tr>\n",
       "    <tr>\n",
       "      <th>1</th>\n",
       "      <td>Tue Jul 31 13:34:14 +0000 2018</td>\n",
       "      <td>1.024290e+18</td>\n",
       "      <td>1.024290e+18</td>\n",
       "      <td>RT @VenomMovie: The world has enough superhero...</td>\n",
       "      <td>False</td>\n",
       "      <td>{'hashtags': [{'text': 'Venom', 'indices': [64...</td>\n",
       "      <td>{'iso_language_code': 'en', 'result_type': 're...</td>\n",
       "      <td>&lt;a href=\"http://twitter.com/download/android\" ...</td>\n",
       "      <td>False</td>\n",
       "      <td>5902</td>\n",
       "      <td>...</td>\n",
       "      <td>en</td>\n",
       "      <td>Kay Khairil ðŸŒ</td>\n",
       "      <td>ikaykhairil</td>\n",
       "      <td>780</td>\n",
       "      <td>382</td>\n",
       "      <td>12</td>\n",
       "      <td>Wed Mar 17 03:27:51 +0000 2010</td>\n",
       "      <td>6648</td>\n",
       "      <td>False</td>\n",
       "      <td>87272</td>\n",
       "    </tr>\n",
       "    <tr>\n",
       "      <th>2</th>\n",
       "      <td>Tue Jul 31 13:34:40 +0000 2018</td>\n",
       "      <td>1.024290e+18</td>\n",
       "      <td>1.024290e+18</td>\n",
       "      <td>RT @FutbolBible: Teachers vs Students match &amp;a...</td>\n",
       "      <td>False</td>\n",
       "      <td>{'hashtags': [], 'symbols': [], 'user_mentions...</td>\n",
       "      <td>{'iso_language_code': 'en', 'result_type': 're...</td>\n",
       "      <td>&lt;a href=\"http://twitter.com/download/iphone\" r...</td>\n",
       "      <td>False</td>\n",
       "      <td>3745</td>\n",
       "      <td>...</td>\n",
       "      <td>en</td>\n",
       "      <td>Charlie Hamilton</td>\n",
       "      <td>ch100897</td>\n",
       "      <td>255</td>\n",
       "      <td>246</td>\n",
       "      <td>1</td>\n",
       "      <td>Sun Mar 03 09:23:03 +0000 2013</td>\n",
       "      <td>5426</td>\n",
       "      <td>False</td>\n",
       "      <td>1731</td>\n",
       "    </tr>\n",
       "  </tbody>\n",
       "</table>\n",
       "<p>3 rows × 21 columns</p>\n",
       "</div>"
      ],
      "text/plain": [
       "                       created_at            id        id_str  \\\n",
       "0  Tue Jul 31 13:34:34 +0000 2018  1.024290e+18  1.024290e+18   \n",
       "1  Tue Jul 31 13:34:14 +0000 2018  1.024290e+18  1.024290e+18   \n",
       "2  Tue Jul 31 13:34:40 +0000 2018  1.024290e+18  1.024290e+18   \n",
       "\n",
       "                                                text  truncated  \\\n",
       "0  RT @EdwardTHardy: The 7th US Circuit Court of ...      False   \n",
       "1  RT @VenomMovie: The world has enough superhero...      False   \n",
       "2  RT @FutbolBible: Teachers vs Students match &a...      False   \n",
       "\n",
       "                                            entities  \\\n",
       "0  {'hashtags': [], 'symbols': [], 'user_mentions...   \n",
       "1  {'hashtags': [{'text': 'Venom', 'indices': [64...   \n",
       "2  {'hashtags': [], 'symbols': [], 'user_mentions...   \n",
       "\n",
       "                                            metadata  \\\n",
       "0  {'iso_language_code': 'en', 'result_type': 're...   \n",
       "1  {'iso_language_code': 'en', 'result_type': 're...   \n",
       "2  {'iso_language_code': 'en', 'result_type': 're...   \n",
       "\n",
       "                                              source  is_quote_status  \\\n",
       "0  <a href=\"http://twitter.com/download/android\" ...            False   \n",
       "1  <a href=\"http://twitter.com/download/android\" ...            False   \n",
       "2  <a href=\"http://twitter.com/download/iphone\" r...            False   \n",
       "\n",
       "   retweet_count  ...  lang         user_name user_screen_name  \\\n",
       "0            113  ...    en       Sherry Wahl   queenfancygirl   \n",
       "1           5902  ...    en  Kay Khairil ðŸŒ      ikaykhairil   \n",
       "2           3745  ...    en  Charlie Hamilton         ch100897   \n",
       "\n",
       "  user_followers_count  user_friends_count  user_listed_count  \\\n",
       "0                  153                 264                  7   \n",
       "1                  780                 382                 12   \n",
       "2                  255                 246                  1   \n",
       "\n",
       "                  user_created_at user_favourites_count  user_verified  \\\n",
       "0  Thu Mar 18 19:16:31 +0000 2010                 32984          False   \n",
       "1  Wed Mar 17 03:27:51 +0000 2010                  6648          False   \n",
       "2  Sun Mar 03 09:23:03 +0000 2013                  5426          False   \n",
       "\n",
       "   user_statuses_count  \n",
       "0                31308  \n",
       "1                87272  \n",
       "2                 1731  \n",
       "\n",
       "[3 rows x 21 columns]"
      ]
     },
     "execution_count": 3,
     "metadata": {},
     "output_type": "execute_result"
    }
   ],
   "source": [
    "#your code here\n",
    "df= pd.read_csv(\"Tweets.csv\")\n",
    "print('Shape of dataframe :',df.shape)\n",
    "print(\"Display dataframe\")\n",
    "df.head(3)"
   ]
  },
  {
   "cell_type": "code",
   "execution_count": 4,
   "metadata": {
    "id": "WAH13731wPS5"
   },
   "outputs": [
    {
     "name": "stdout",
     "output_type": "stream",
     "text": [
      "Shape of targetframe : (11099, 1)\n",
      "Display targetframe\n"
     ]
    },
    {
     "data": {
      "text/html": [
       "<div>\n",
       "<style scoped>\n",
       "    .dataframe tbody tr th:only-of-type {\n",
       "        vertical-align: middle;\n",
       "    }\n",
       "\n",
       "    .dataframe tbody tr th {\n",
       "        vertical-align: top;\n",
       "    }\n",
       "\n",
       "    .dataframe thead th {\n",
       "        text-align: right;\n",
       "    }\n",
       "</style>\n",
       "<table border=\"1\" class=\"dataframe\">\n",
       "  <thead>\n",
       "    <tr style=\"text-align: right;\">\n",
       "      <th></th>\n",
       "      <th>Result</th>\n",
       "    </tr>\n",
       "  </thead>\n",
       "  <tbody>\n",
       "    <tr>\n",
       "      <th>0</th>\n",
       "      <td>0.0</td>\n",
       "    </tr>\n",
       "    <tr>\n",
       "      <th>1</th>\n",
       "      <td>0.0</td>\n",
       "    </tr>\n",
       "    <tr>\n",
       "      <th>2</th>\n",
       "      <td>1.0</td>\n",
       "    </tr>\n",
       "  </tbody>\n",
       "</table>\n",
       "</div>"
      ],
      "text/plain": [
       "   Result\n",
       "0     0.0\n",
       "1     0.0\n",
       "2     1.0"
      ]
     },
     "execution_count": 4,
     "metadata": {},
     "output_type": "execute_result"
    }
   ],
   "source": [
    "tf = pd.read_csv(\"ground_truth.csv\",header = None)\n",
    "##changing column name\n",
    "tf.columns = ['Result']\n",
    "print('Shape of targetframe :',tf.shape)\n",
    "print(\"Display targetframe\")\n",
    "tf.head(3)\n"
   ]
  },
  {
   "cell_type": "markdown",
   "metadata": {
    "id": "ywNXO3TpwQkV"
   },
   "source": [
    "## Exploratory Data Analysis\n",
    "*This is an ungraded section but is recommended to get a good grasp on the dataset*"
   ]
  },
  {
   "cell_type": "code",
   "execution_count": 5,
   "metadata": {
    "id": "Nl8EwC77wqX4"
   },
   "outputs": [],
   "source": [
    "# your code here"
   ]
  },
  {
   "cell_type": "markdown",
   "metadata": {
    "id": "Mztyk9Kew7q1"
   },
   "source": [
    "## Part-1\n",
    "*Vectorize tweets using only meta data*"
   ]
  },
  {
   "cell_type": "code",
   "execution_count": 6,
   "metadata": {
    "id": "y-rDkUtVxQph"
   },
   "outputs": [],
   "source": [
    "def get_features(df):\n",
    "    df1 = df[['retweet_count','user_followers_count', 'user_friends_count', 'user_favourites_count','user_statuses_count']]\n",
    "#     columns = df.columns\n",
    "\n",
    "    #1.NORMALIZE DATA\n",
    "    from sklearn.preprocessing import MinMaxScaler\n",
    "    scaler = MinMaxScaler()\n",
    "    # #fit scaler to trainset it will learn parameters\n",
    "    scaler.fit(df1)\n",
    "\n",
    "    #transform train\n",
    "    df_scaled = scaler.transform(df1)\n",
    "    #it gives numpy so convert to dataframe\n",
    "    df_normalised = pd.DataFrame(df_scaled, columns = df1.columns)\n",
    "#     df_normalised.head()\n",
    "    return df_normalised\n",
    "     \n",
    "    # your code here"
   ]
  },
  {
   "cell_type": "markdown",
   "metadata": {
    "id": "4K7Fzh5Q4wrV"
   },
   "source": [
    "Perform KNN using the vector obtained from get_features() function. Following are the steps to be followed:\n",
    "1. Normalise the vectors\n",
    "2. Split the data into training and test to estimate the performance.\n",
    "3. Fit the Nearest Neughbiurs module to the training data and obtain the predicted class by getting the nearest neighbours on the test data.\n",
    "4. Report the accuracy, chosen k-value and method used to obtain the predicted class. Hint: Plot accuracies for a range of k-values. "
   ]
  },
  {
   "cell_type": "code",
   "execution_count": 6,
   "metadata": {
    "id": "EBHGbdsi4fe-"
   },
   "outputs": [],
   "source": [
    "# your code here\n",
    "df_normalised = get_features(df)\n"
   ]
  },
  {
   "cell_type": "code",
   "execution_count": 7,
   "metadata": {},
   "outputs": [
    {
     "data": {
      "text/html": [
       "<div>\n",
       "<style scoped>\n",
       "    .dataframe tbody tr th:only-of-type {\n",
       "        vertical-align: middle;\n",
       "    }\n",
       "\n",
       "    .dataframe tbody tr th {\n",
       "        vertical-align: top;\n",
       "    }\n",
       "\n",
       "    .dataframe thead th {\n",
       "        text-align: right;\n",
       "    }\n",
       "</style>\n",
       "<table border=\"1\" class=\"dataframe\">\n",
       "  <thead>\n",
       "    <tr style=\"text-align: right;\">\n",
       "      <th></th>\n",
       "      <th>retweet_count</th>\n",
       "      <th>user_followers_count</th>\n",
       "      <th>user_friends_count</th>\n",
       "      <th>user_favourites_count</th>\n",
       "      <th>user_statuses_count</th>\n",
       "    </tr>\n",
       "  </thead>\n",
       "  <tbody>\n",
       "    <tr>\n",
       "      <th>0</th>\n",
       "      <td>0.000273</td>\n",
       "      <td>0.000008</td>\n",
       "      <td>0.000517</td>\n",
       "      <td>0.051868</td>\n",
       "      <td>0.010991</td>\n",
       "    </tr>\n",
       "    <tr>\n",
       "      <th>1</th>\n",
       "      <td>0.014266</td>\n",
       "      <td>0.000039</td>\n",
       "      <td>0.000749</td>\n",
       "      <td>0.010454</td>\n",
       "      <td>0.030639</td>\n",
       "    </tr>\n",
       "    <tr>\n",
       "      <th>2</th>\n",
       "      <td>0.009052</td>\n",
       "      <td>0.000013</td>\n",
       "      <td>0.000482</td>\n",
       "      <td>0.008533</td>\n",
       "      <td>0.000607</td>\n",
       "    </tr>\n",
       "    <tr>\n",
       "      <th>3</th>\n",
       "      <td>0.000024</td>\n",
       "      <td>0.000120</td>\n",
       "      <td>0.004758</td>\n",
       "      <td>0.009424</td>\n",
       "      <td>0.000756</td>\n",
       "    </tr>\n",
       "    <tr>\n",
       "      <th>4</th>\n",
       "      <td>0.061167</td>\n",
       "      <td>0.000016</td>\n",
       "      <td>0.001415</td>\n",
       "      <td>0.009883</td>\n",
       "      <td>0.011762</td>\n",
       "    </tr>\n",
       "  </tbody>\n",
       "</table>\n",
       "</div>"
      ],
      "text/plain": [
       "   retweet_count  user_followers_count  user_friends_count  \\\n",
       "0       0.000273              0.000008            0.000517   \n",
       "1       0.014266              0.000039            0.000749   \n",
       "2       0.009052              0.000013            0.000482   \n",
       "3       0.000024              0.000120            0.004758   \n",
       "4       0.061167              0.000016            0.001415   \n",
       "\n",
       "   user_favourites_count  user_statuses_count  \n",
       "0               0.051868             0.010991  \n",
       "1               0.010454             0.030639  \n",
       "2               0.008533             0.000607  \n",
       "3               0.009424             0.000756  \n",
       "4               0.009883             0.011762  "
      ]
     },
     "execution_count": 7,
     "metadata": {},
     "output_type": "execute_result"
    }
   ],
   "source": [
    "df_normalised.head()"
   ]
  },
  {
   "cell_type": "code",
   "execution_count": 8,
   "metadata": {},
   "outputs": [],
   "source": [
    "##2.split data\n",
    "x_train,x_test, y_train,y_test = train_test_split(df_normalised,tf,test_size=0.2)"
   ]
  },
  {
   "cell_type": "code",
   "execution_count": 8,
   "metadata": {},
   "outputs": [],
   "source": [
    "##3.Fit and find the Nearest Neughbiurs module to the training data\n",
    "def KNN_new(x_train,y_train,x_test,k_val):\n",
    "    distance_vector = pd.DataFrame(euclidean_distances(x_test,x_train))\n",
    "    distance_vector\n",
    "    y_predict=[]\n",
    "    for i in range(len(distance_vector)):\n",
    "        distances = pd.DataFrame(distance_vector.iloc[i,:] )\n",
    "        distances.columns = ['Distances']\n",
    "        distances['index'] = distances.index\n",
    "        sorted_df = distances.sort_values(by=['Distances'], ascending=True)\n",
    "        # print(sorted_df)\n",
    "        k_neighbour_list = sorted_df[:k_val]\n",
    "        indices =  k_neighbour_list[\"index\"].to_numpy()\n",
    "        labels = y_train.iloc[indices]\n",
    "        # print(labels)\n",
    "        labels = np.unique(labels[:],return_counts=True)\n",
    "        index = labels[1].argmax()\n",
    "        voting = labels[0][index]\n",
    "        y_predict.append(voting)\n",
    "        \n",
    "    return y_predict"
   ]
  },
  {
   "cell_type": "code",
   "execution_count": 10,
   "metadata": {},
   "outputs": [
    {
     "name": "stdout",
     "output_type": "stream",
     "text": [
      "for 3 accuracy_score = 0.9567567567567568\n",
      "for 4 accuracy_score = 0.9522522522522523\n",
      "for 5 accuracy_score = 0.9545045045045045\n",
      "for 6 accuracy_score = 0.9536036036036036\n",
      "for 7 accuracy_score = 0.9545045045045045\n",
      "for 8 accuracy_score = 0.9522522522522523\n",
      "for 9 accuracy_score = 0.9527027027027027\n",
      "for 10 accuracy_score = 0.9522522522522523\n",
      "for 11 accuracy_score = 0.9531531531531532\n"
     ]
    }
   ],
   "source": [
    "## getting predicted class and accuracy scores\n",
    "accuracy_vals = []\n",
    "max_accuracy = 0\n",
    "k_v = 1000\n",
    "for i in range(3,12):\n",
    "    y_predicted = KNN_new(x_train,y_train,x_test,k_val=i)\n",
    "    a = accuracy_score(y_test,y_predicted)\n",
    "    if max_accuracy < a:\n",
    "        k_v = i\n",
    "        max_accuracy = a\n",
    "    accuracy_vals.append(a)\n",
    "    print(\"for\",i,'accuracy_score =', accuracy_score(y_test,y_predicted))"
   ]
  },
  {
   "cell_type": "code",
   "execution_count": 11,
   "metadata": {},
   "outputs": [
    {
     "data": {
      "text/plain": [
       "[<matplotlib.lines.Line2D at 0x7f5d006fe770>]"
      ]
     },
     "execution_count": 11,
     "metadata": {},
     "output_type": "execute_result"
    },
    {
     "data": {
      "image/png": "[encoded data removed]",
      "text/plain": [
       "<Figure size 432x288 with 1 Axes>"
      ]
     },
     "metadata": {
      "needs_background": "light"
     },
     "output_type": "display_data"
    }
   ],
   "source": [
    "##PLOTTING graph\n",
    "plt.plot(range(3,12),accuracy_vals,color='blue',marker ='x',linestyle=\"dashed\")\n"
   ]
  },
  {
   "cell_type": "markdown",
   "metadata": {},
   "source": [
    "# Accuracy and choosen k"
   ]
  },
  {
   "cell_type": "code",
   "execution_count": 12,
   "metadata": {},
   "outputs": [
    {
     "name": "stdout",
     "output_type": "stream",
     "text": [
      "MAX_ACCURACY IS : 0.9567567567567568 at k-val: 3\n"
     ]
    }
   ],
   "source": [
    "print(\"MAX_ACCURACY IS :\",max_accuracy, 'at k-val:', k_v)"
   ]
  },
  {
   "cell_type": "markdown",
   "metadata": {
    "id": "vSufXze8zmV3"
   },
   "source": [
    "## Part-2\n",
    "Vectorize tweets based on the text. More details and reference links can be checked on the Tasks list in the start of the notebook"
   ]
  },
  {
   "cell_type": "code",
   "execution_count": 9,
   "metadata": {},
   "outputs": [
    {
     "name": "stderr",
     "output_type": "stream",
     "text": [
      "[nltk_data] Downloading package stopwords to /home/lokesh/nltk_data...\n",
      "[nltk_data]   Package stopwords is already up-to-date!\n"
     ]
    }
   ],
   "source": [
    "##Important libraries\n",
    "import nltk\n",
    "import re\n",
    "nltk.download('stopwords')\n",
    "from nltk.corpus import stopwords"
   ]
  },
  {
   "cell_type": "code",
   "execution_count": 10,
   "metadata": {
    "id": "GBizLGhg0kQT"
   },
   "outputs": [],
   "source": [
    "def tweet_vectoriser(df2):\n",
    "    \n",
    "    results =[clean_tweet(tw) for tw in df2]\n",
    "    ##vectroise\n",
    "    from sklearn.feature_extraction.text import  TfidfVectorizer\n",
    "    cv = TfidfVectorizer()\n",
    "    x = cv.fit_transform(results).toarray()\n",
    "    x = pd.DataFrame(x)\n",
    "#     x.head(2)\n",
    "    \n",
    "    #1. standard\n",
    "    from sklearn.preprocessing import StandardScaler\n",
    "    scalar = StandardScaler()\n",
    "    scalar.fit(x)\n",
    "    scaled_data = scalar.transform(x)\n",
    "    # scaled_data\n",
    "\n",
    "    #using svd\n",
    "    from sklearn.datasets import load_digits\n",
    "    from sklearn.decomposition import TruncatedSVD\n",
    "    svd = TruncatedSVD(n_components=20)\n",
    "    X_svd = svd.fit_transform(x)\n",
    "    return X_svd\n",
    "    \n",
    "#   \"\"\"\n",
    "#   Funtion to return a matrix of dimensions (number of tweets, number of features extracted per tweet)\n",
    "#   Following are the steps for be followed:\n",
    "#     1. Remove links, tags and hashtags from each tweet.\n",
    "#     2. Apply TF-IDF on the tweets to extract a vector. \n",
    "#     3. Perform dimensionality reduction on the obtained vector. \n",
    "#   Input parameters to this funcion are to be chosen as per requirement (Example: Array of tweets) \n",
    "#   \"\"\"\n",
    "\n",
    "def clean_tweet(tweet):\n",
    "    #Task 1 : to lower\n",
    "    temp = tweet.lower()\n",
    "    \n",
    "    temp = re.sub(\"'\", \"\", temp) # to avoid removing contractions in english\n",
    "    #Task 2 : all in once\n",
    "    temp = re.sub(\"@[A-Za-z0-9_]+\",\"\", temp)\n",
    "    temp = re.sub(\"#[A-Za-z0-9_]+\",\"\", temp)\n",
    "    temp = re.sub(r'http\\S+', '', temp)\n",
    "    url_regex_exp = r\"(https?:\\/\\/(www\\.)?[-a-zA-Z0-9@:%._\\+~#=]{1,256}\\.[a-zA-Z0-9()]{1,6}\\b([-a-zA-Z0-9()@:%_\\+.~#?&//=]*))\"\n",
    "    temp = re.sub(url_regex_exp,\" \", temp)\n",
    "    temp = re.sub('[()!?]', ' ', temp)\n",
    "    temp = re.sub('\\[.*?\\]',' ', temp)\n",
    "    temp = re.sub(\"[^a-z0-9]\",\" \", temp)\n",
    "    temp = temp.split()\n",
    "    all_stopwords = stopwords.words('english')\n",
    "    temp = [w for w in temp if not w in all_stopwords]\n",
    "    temp = \" \".join(word for word in temp)\n",
    "    return temp\n",
    "  # your code here"
   ]
  },
  {
   "cell_type": "code",
   "execution_count": 11,
   "metadata": {},
   "outputs": [],
   "source": [
    "df2 = pd.read_csv(\"Tweets.csv\")\n",
    "df2 = df2['text']\n",
    "results = tweet_vectoriser(df2)"
   ]
  },
  {
   "cell_type": "markdown",
   "metadata": {
    "id": "3Q47SVkv9VzO"
   },
   "source": [
    "Perform KNN using the vector obtained from tweet_vectoriser() function. Following are the steps to be followed:\n",
    "\n",
    "1. Normalise the vectors\n",
    "2. Split the data into training and test to estimate the performance.\n",
    "3. Fit the Nearest Neughbiurs module to the training data and obtain the predicted class by getting the nearest neighbours on the test data.\n",
    "4. Report the accuracy, chosen k-value and method used to obtain the predicted class. Hint: Plot accuracies for a range of k-values."
   ]
  },
  {
   "cell_type": "markdown",
   "metadata": {},
   "source": [
    "## SPLIT"
   ]
  },
  {
   "cell_type": "code",
   "execution_count": 12,
   "metadata": {},
   "outputs": [],
   "source": [
    "x_train,x_test, y_train,y_test = train_test_split(results,tf,test_size=0.2)"
   ]
  },
  {
   "cell_type": "code",
   "execution_count": 15,
   "metadata": {},
   "outputs": [
    {
     "name": "stdout",
     "output_type": "stream",
     "text": [
      "for 3 accuracy_score = 0.9202702702702703\n",
      "for 4 accuracy_score = 0.9256756756756757\n",
      "for 5 accuracy_score = 0.9238738738738739\n",
      "for 6 accuracy_score = 0.9243243243243243\n",
      "for 7 accuracy_score = 0.9234234234234234\n",
      "for 8 accuracy_score = 0.9247747747747748\n",
      "for 9 accuracy_score = 0.9238738738738739\n",
      "for 10 accuracy_score = 0.9238738738738739\n",
      "for 11 accuracy_score = 0.9243243243243243\n"
     ]
    }
   ],
   "source": [
    "accuracy_vals1 = []\n",
    "max_accuracy = 0\n",
    "k_v = 1000\n",
    "for i in range(3,12):\n",
    "    y_predicted = KNN_new(x_train,y_train,x_test,k_val=i)\n",
    "    a = accuracy_score(y_test,y_predicted)\n",
    "    if max_accuracy < a:\n",
    "        k_v = i\n",
    "        max_accuracy = a\n",
    "    accuracy_vals1.append(a)\n",
    "    print(\"for\",i,'accuracy_score =', accuracy_score(y_test,y_predicted))"
   ]
  },
  {
   "cell_type": "code",
   "execution_count": 16,
   "metadata": {},
   "outputs": [
    {
     "name": "stdout",
     "output_type": "stream",
     "text": [
      "MAX_ACCURACY IS : 0.9256756756756757 at k-val: 4\n"
     ]
    },
    {
     "data": {
      "image/png": "[encoded data removed]",
      "text/plain": [
       "<Figure size 432x288 with 1 Axes>"
      ]
     },
     "metadata": {
      "needs_background": "light"
     },
     "output_type": "display_data"
    }
   ],
   "source": [
    "plt.plot(range(3,12),accuracy_vals1,color='blue',marker ='x',linestyle=\"dashed\")\n",
    "print(\"MAX_ACCURACY IS :\",max_accuracy, 'at k-val:', k_v)\n"
   ]
  },
  {
   "cell_type": "markdown",
   "metadata": {
    "id": "Rg7hD8-O3PbO"
   },
   "source": [
    "## Part-3\n",
    "### Subpart-1"
   ]
  },
  {
   "cell_type": "markdown",
   "metadata": {
    "id": "Bp9TVeVD9lKe"
   },
   "source": [
    "Combine both the vectors obtained from the tweet_vectoriser() and get_features()"
   ]
  },
  {
   "cell_type": "code",
   "execution_count": 17,
   "metadata": {
    "id": "r5ksyj7_3_xl"
   },
   "outputs": [
    {
     "name": "stdout",
     "output_type": "stream",
     "text": [
      "(11099, 5)\n",
      "(11099, 20)\n"
     ]
    }
   ],
   "source": [
    "# your code here\n",
    "data = pd.read_csv(\"Tweets.csv\")\n",
    "df1 = pd.DataFrame(get_features(data))\n",
    "df2 = df['text']\n",
    "df2 = pd.DataFrame(tweet_vectoriser(df2))\n",
    "print(df1.shape)\n",
    "print(df2.shape)\n",
    "result = pd.concat([df2, df1], axis=1).reindex(df2.index)\n",
    " "
   ]
  },
  {
   "cell_type": "code",
   "execution_count": 18,
   "metadata": {},
   "outputs": [
    {
     "data": {
      "text/html": [
       "<div>\n",
       "<style scoped>\n",
       "    .dataframe tbody tr th:only-of-type {\n",
       "        vertical-align: middle;\n",
       "    }\n",
       "\n",
       "    .dataframe tbody tr th {\n",
       "        vertical-align: top;\n",
       "    }\n",
       "\n",
       "    .dataframe thead th {\n",
       "        text-align: right;\n",
       "    }\n",
       "</style>\n",
       "<table border=\"1\" class=\"dataframe\">\n",
       "  <thead>\n",
       "    <tr style=\"text-align: right;\">\n",
       "      <th></th>\n",
       "      <th>0</th>\n",
       "      <th>1</th>\n",
       "      <th>2</th>\n",
       "      <th>3</th>\n",
       "      <th>4</th>\n",
       "      <th>5</th>\n",
       "      <th>6</th>\n",
       "      <th>7</th>\n",
       "      <th>8</th>\n",
       "      <th>9</th>\n",
       "      <th>...</th>\n",
       "      <th>15</th>\n",
       "      <th>16</th>\n",
       "      <th>17</th>\n",
       "      <th>18</th>\n",
       "      <th>19</th>\n",
       "      <th>retweet_count</th>\n",
       "      <th>user_followers_count</th>\n",
       "      <th>user_friends_count</th>\n",
       "      <th>user_favourites_count</th>\n",
       "      <th>user_statuses_count</th>\n",
       "    </tr>\n",
       "  </thead>\n",
       "  <tbody>\n",
       "    <tr>\n",
       "      <th>0</th>\n",
       "      <td>0.046901</td>\n",
       "      <td>-0.018261</td>\n",
       "      <td>-0.005212</td>\n",
       "      <td>-0.002438</td>\n",
       "      <td>-0.000563</td>\n",
       "      <td>-0.005044</td>\n",
       "      <td>-0.000694</td>\n",
       "      <td>-0.001464</td>\n",
       "      <td>-0.007788</td>\n",
       "      <td>-0.007693</td>\n",
       "      <td>...</td>\n",
       "      <td>-0.013916</td>\n",
       "      <td>0.000662</td>\n",
       "      <td>-0.015275</td>\n",
       "      <td>0.001810</td>\n",
       "      <td>0.014929</td>\n",
       "      <td>0.000273</td>\n",
       "      <td>0.000008</td>\n",
       "      <td>0.000517</td>\n",
       "      <td>0.051868</td>\n",
       "      <td>0.010991</td>\n",
       "    </tr>\n",
       "    <tr>\n",
       "      <th>1</th>\n",
       "      <td>0.432844</td>\n",
       "      <td>0.888853</td>\n",
       "      <td>0.054991</td>\n",
       "      <td>0.014318</td>\n",
       "      <td>-0.002121</td>\n",
       "      <td>0.017204</td>\n",
       "      <td>-0.003698</td>\n",
       "      <td>-0.076461</td>\n",
       "      <td>0.001508</td>\n",
       "      <td>-0.012319</td>\n",
       "      <td>...</td>\n",
       "      <td>0.015924</td>\n",
       "      <td>0.003517</td>\n",
       "      <td>0.007475</td>\n",
       "      <td>0.001141</td>\n",
       "      <td>0.003739</td>\n",
       "      <td>0.014266</td>\n",
       "      <td>0.000039</td>\n",
       "      <td>0.000749</td>\n",
       "      <td>0.010454</td>\n",
       "      <td>0.030639</td>\n",
       "    </tr>\n",
       "    <tr>\n",
       "      <th>2</th>\n",
       "      <td>0.086341</td>\n",
       "      <td>-0.035502</td>\n",
       "      <td>-0.006551</td>\n",
       "      <td>0.066539</td>\n",
       "      <td>0.000123</td>\n",
       "      <td>-0.024079</td>\n",
       "      <td>-0.026981</td>\n",
       "      <td>0.013920</td>\n",
       "      <td>-0.016347</td>\n",
       "      <td>-0.062274</td>\n",
       "      <td>...</td>\n",
       "      <td>-0.083146</td>\n",
       "      <td>-0.007410</td>\n",
       "      <td>-0.045442</td>\n",
       "      <td>-0.042666</td>\n",
       "      <td>0.072658</td>\n",
       "      <td>0.009052</td>\n",
       "      <td>0.000013</td>\n",
       "      <td>0.000482</td>\n",
       "      <td>0.008533</td>\n",
       "      <td>0.000607</td>\n",
       "    </tr>\n",
       "    <tr>\n",
       "      <th>3</th>\n",
       "      <td>0.080267</td>\n",
       "      <td>-0.031005</td>\n",
       "      <td>-0.008529</td>\n",
       "      <td>-0.005618</td>\n",
       "      <td>-0.001101</td>\n",
       "      <td>-0.017788</td>\n",
       "      <td>-0.012571</td>\n",
       "      <td>-0.007955</td>\n",
       "      <td>0.007473</td>\n",
       "      <td>0.065812</td>\n",
       "      <td>...</td>\n",
       "      <td>0.015947</td>\n",
       "      <td>0.017574</td>\n",
       "      <td>0.004555</td>\n",
       "      <td>0.015717</td>\n",
       "      <td>-0.022308</td>\n",
       "      <td>0.000024</td>\n",
       "      <td>0.000120</td>\n",
       "      <td>0.004758</td>\n",
       "      <td>0.009424</td>\n",
       "      <td>0.000756</td>\n",
       "    </tr>\n",
       "    <tr>\n",
       "      <th>4</th>\n",
       "      <td>0.094399</td>\n",
       "      <td>-0.040458</td>\n",
       "      <td>-0.005175</td>\n",
       "      <td>-0.004417</td>\n",
       "      <td>0.000249</td>\n",
       "      <td>-0.043083</td>\n",
       "      <td>-0.055234</td>\n",
       "      <td>-0.022802</td>\n",
       "      <td>-0.043448</td>\n",
       "      <td>0.006401</td>\n",
       "      <td>...</td>\n",
       "      <td>0.027015</td>\n",
       "      <td>0.064329</td>\n",
       "      <td>-0.092503</td>\n",
       "      <td>-0.032756</td>\n",
       "      <td>0.312165</td>\n",
       "      <td>0.061167</td>\n",
       "      <td>0.000016</td>\n",
       "      <td>0.001415</td>\n",
       "      <td>0.009883</td>\n",
       "      <td>0.011762</td>\n",
       "    </tr>\n",
       "  </tbody>\n",
       "</table>\n",
       "<p>5 rows × 25 columns</p>\n",
       "</div>"
      ],
      "text/plain": [
       "          0         1         2         3         4         5         6  \\\n",
       "0  0.046901 -0.018261 -0.005212 -0.002438 -0.000563 -0.005044 -0.000694   \n",
       "1  0.432844  0.888853  0.054991  0.014318 -0.002121  0.017204 -0.003698   \n",
       "2  0.086341 -0.035502 -0.006551  0.066539  0.000123 -0.024079 -0.026981   \n",
       "3  0.080267 -0.031005 -0.008529 -0.005618 -0.001101 -0.017788 -0.012571   \n",
       "4  0.094399 -0.040458 -0.005175 -0.004417  0.000249 -0.043083 -0.055234   \n",
       "\n",
       "          7         8         9  ...        15        16        17        18  \\\n",
       "0 -0.001464 -0.007788 -0.007693  ... -0.013916  0.000662 -0.015275  0.001810   \n",
       "1 -0.076461  0.001508 -0.012319  ...  0.015924  0.003517  0.007475  0.001141   \n",
       "2  0.013920 -0.016347 -0.062274  ... -0.083146 -0.007410 -0.045442 -0.042666   \n",
       "3 -0.007955  0.007473  0.065812  ...  0.015947  0.017574  0.004555  0.015717   \n",
       "4 -0.022802 -0.043448  0.006401  ...  0.027015  0.064329 -0.092503 -0.032756   \n",
       "\n",
       "         19  retweet_count  user_followers_count  user_friends_count  \\\n",
       "0  0.014929       0.000273              0.000008            0.000517   \n",
       "1  0.003739       0.014266              0.000039            0.000749   \n",
       "2  0.072658       0.009052              0.000013            0.000482   \n",
       "3 -0.022308       0.000024              0.000120            0.004758   \n",
       "4  0.312165       0.061167              0.000016            0.001415   \n",
       "\n",
       "   user_favourites_count  user_statuses_count  \n",
       "0               0.051868             0.010991  \n",
       "1               0.010454             0.030639  \n",
       "2               0.008533             0.000607  \n",
       "3               0.009424             0.000756  \n",
       "4               0.009883             0.011762  \n",
       "\n",
       "[5 rows x 25 columns]"
      ]
     },
     "execution_count": 18,
     "metadata": {},
     "output_type": "execute_result"
    }
   ],
   "source": [
    "result[:5]"
   ]
  },
  {
   "cell_type": "markdown",
   "metadata": {
    "id": "swCD5Jp69xo5"
   },
   "source": [
    "Perform KNN using the vector obtained in the previous step. Following are the steps to be followed:\n",
    "\n",
    "1. Normalise the vectors\n",
    "2. Split the data into training and test to estimate the performance.\n",
    "3. Fit the Nearest Neughbiurs module to the training data and obtain the predicted class by getting the nearest neighbours on the test data.\n",
    "4. Report the accuracy, chosen k-value and method used to obtain the predicted class. Hint: Plot accuracies for a range of k-values."
   ]
  },
  {
   "cell_type": "code",
   "execution_count": 19,
   "metadata": {},
   "outputs": [
    {
     "name": "stdout",
     "output_type": "stream",
     "text": [
      "for 3 accuracy_score = 0.9387387387387387\n",
      "for 4 accuracy_score = 0.9387387387387387\n",
      "for 5 accuracy_score = 0.9405405405405406\n",
      "for 6 accuracy_score = 0.936036036036036\n",
      "for 7 accuracy_score = 0.9373873873873874\n",
      "for 8 accuracy_score = 0.9364864864864865\n",
      "for 9 accuracy_score = 0.9391891891891891\n",
      "for 10 accuracy_score = 0.9369369369369369\n",
      "for 11 accuracy_score = 0.9382882882882883\n",
      "for 12 accuracy_score = 0.9391891891891891\n",
      "for 13 accuracy_score = 0.94009009009009\n",
      "for 14 accuracy_score = 0.936036036036036\n"
     ]
    }
   ],
   "source": [
    "# your code here\n",
    "x_train,x_test, y_train,y_test = train_test_split(result,tf,test_size=0.2)\n",
    "accuracy_vals1 = []\n",
    "max_accuracy = 0\n",
    "k_v = 1000\n",
    "for i in range(3,12):\n",
    "    y_predicted = KNN_new(x_train,y_train,x_test,k_val=i)\n",
    "    a = accuracy_score(y_test,y_predicted)\n",
    "    if max_accuracy < a:\n",
    "        k_v = i\n",
    "        max_accuracy = a\n",
    "    accuracy_vals1.append(a)\n",
    "    print(\"for\",i,'accuracy_score =', accuracy_score(y_test,y_predicted))"
   ]
  },
  {
   "cell_type": "code",
   "execution_count": 20,
   "metadata": {
    "id": "rufknWgo4AvY"
   },
   "outputs": [
    {
     "name": "stdout",
     "output_type": "stream",
     "text": [
      "MAX_ACCURACY IS : 0.9405405405405406 at k-val: 5\n"
     ]
    },
    {
     "data": {
      "image/png": "[encoded data removed]",
      "text/plain": [
       "<Figure size 432x288 with 1 Axes>"
      ]
     },
     "metadata": {
      "needs_background": "light"
     },
     "output_type": "display_data"
    }
   ],
   "source": [
    "# your code here\n",
    "plt.plot(range(3,15),accuracy_vals1,color='blue',marker ='x',linestyle=\"dashed\")\n",
    "print(\"MAX_ACCURACY IS :\",max_accuracy, 'at k-val:', k_v)"
   ]
  },
  {
   "attachments": {},
   "cell_type": "markdown",
   "metadata": {
    "id": "1NVQLLhE3c79"
   },
   "source": [
    "### Subpart-2\n",
    "\n",
    "Explain the differences between the accuracies obtained in each part above based on the features used.\n",
    "\n",
    "Part1. columns used are :5\n",
    "'retweet_count','user_followers_count', 'user_friends_count', 'user_favourites_count','user_statuses_count'\n",
    "\n",
    "MAX_ACCURACY IS : 0.9567567567567568 at k-val: 3\n",
    "\n",
    "\n",
    "\n",
    "Part2. column used  : text\n",
    "TruncatedSVD is used here for dimensionality reduction to 20                                                          \n",
    "MAX_ACCURACY IS : 0.9256756756756757 at k-val: 4\n",
    "\n",
    "\n",
    "\n",
    "Part3. combined 20 columns from part 2 and 5columns from part1                                                       \n",
    "MAX_ACCURACY IS : 0.9405405405405406 at k-val: 5\n",
    "\n",
    " "
   ]
  },
  {
   "cell_type": "code",
   "execution_count": null,
   "metadata": {},
   "outputs": [],
   "source": []
  }
 ],
 "metadata": {
  "colab": {
   "provenance": []
  },
  "kernelspec": {
   "display_name": "Python 3",
   "language": "python",
   "name": "python3"
  },
  "language_info": {
   "codemirror_mode": {
    "name": "ipython",
    "version": 3
   },
   "file_extension": ".py",
   "mimetype": "text/x-python",
   "name": "python",
   "nbconvert_exporter": "python",
   "pygments_lexer": "ipython3",
   "version": "3.10.6 (main, Nov 14 2022, 16:10:14) [GCC 11.3.0]"
  },
  "vscode": {
   "interpreter": {
    "hash": "916dbcbb3f70747c44a77c7bcd40155683ae19c65e1c03b4aa3499c5328201f1"
   }
  }
 },
 "nbformat": 4,
 "nbformat_minor": 4
}
