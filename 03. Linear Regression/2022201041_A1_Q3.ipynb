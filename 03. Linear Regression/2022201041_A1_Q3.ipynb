{
 "cells": [
  {
   "cell_type": "markdown",
   "id": "improving-pepper",
   "metadata": {
    "id": "improving-pepper"
   },
   "source": [
    "# Assignment 1 - Question 3\n",
    "The objective of this assignment is to get you familiarize with  the  problem  of  `Linear Regression`.\n",
    "\n",
    "## Instructions\n",
    "- Write your code and analysis in the indicated cells.\n",
    "- Ensure that this notebook runs without errors when the cells are run in sequence.\n",
    "- Do not attempt to change the contents of other cells.\n",
    "- No inbuilt functions to be used until specified.\n",
    "\n",
    "## Submission\n",
    "- Ensure that this notebook runs without errors when the cells are run in sequence.\n",
    "- Rename the notebook to `<roll_number>_A1_Q3.ipynb`."
   ]
  },
  {
   "cell_type": "markdown",
   "id": "final-transaction",
   "metadata": {
    "id": "final-transaction"
   },
   "source": [
    "## 1.3.0 Background about the dataset\n",
    "\n",
    "TLDR: You have 25 independent variables (`x1, x2, x3, ... , x25`) type: `float` for each data point. You can use a linear combination of these 25 independent variables to predict the y (dependent variable) of each data point."
   ]
  },
  {
   "cell_type": "code",
   "execution_count": 22,
   "id": "lyric-olympus",
   "metadata": {
    "id": "lyric-olympus"
   },
   "outputs": [],
   "source": [
    "import csv\n",
    "import random\n",
    "import numpy as np\n",
    "import matplotlib.pyplot as plt\n",
    "import pandas as pd\n",
    "from sklearn.metrics import mean_squared_error\n",
    "from math import sqrt"
   ]
  },
  {
   "cell_type": "code",
   "execution_count": 23,
   "id": "hundred-receipt",
   "metadata": {
    "id": "hundred-receipt"
   },
   "outputs": [],
   "source": [
    "train_data = list()\n",
    "with open('train_q3.csv', 'r') as infile:\n",
    "    input_rows = csv.DictReader(infile)\n",
    "    for row in input_rows:\n",
    "        data_point = ([float(row['x1']), float(row['x2']), float(row['x3']),\n",
    "                       float(row['x4']), float(row['x5']), float(row['x6']),\n",
    "                        float(row['x7']), float(row['x8']), float(row['x9']),\n",
    "                        float(row['x10']), float(row['x11']), float(row['x12']),\n",
    "                        float(row['x13']), float(row['x14']), float(row['x15']),\n",
    "                        float(row['x16']), float(row['x17']), float(row['x18']),\n",
    "                        float(row['x19']), float(row['x20']), float(row['x21']),\n",
    "                        float(row['x22']), float(row['x23']), float(row['x24']),\n",
    "                        float(row['x25'])], float(row['y']))\n",
    "        train_data.append(data_point)\n",
    "        \n",
    "# each point in x_train has 25 values - 1 for each feature\n",
    "x_train = [x[0] for x in train_data]\n",
    "# each point in y_train has 1 value - the 'y' of the molecule\n",
    "y_train = [x[1] for x in train_data]\n",
    "\n",
    "\n",
    "test_data = list()\n",
    "with open('test_q3.csv', 'r') as infile:\n",
    "    input_rows = csv.DictReader(infile)\n",
    "    for row in input_rows:\n",
    "        data_point = ([float(row['x1']), float(row['x2']), float(row['x3']),\n",
    "                        float(row['x4']), float(row['x5']), float(row['x6']),\n",
    "                        float(row['x7']), float(row['x8']), float(row['x9']),\n",
    "                        float(row['x10']), float(row['x11']), float(row['x12']),\n",
    "                        float(row['x13']), float(row['x14']), float(row['x15']),\n",
    "                        float(row['x16']), float(row['x17']), float(row['x18']),\n",
    "                        float(row['x19']), float(row['x20']), float(row['x21']),\n",
    "                        float(row['x22']), float(row['x23']), float(row['x24']),\n",
    "                        float(row['x25'])], float(row['y']))\n",
    "        test_data.append(data_point)\n",
    "\n",
    "x_test = [x[0] for x in test_data]\n",
    "y_test = [x[1] for x in test_data]\n"
   ]
  },
  {
   "cell_type": "markdown",
   "id": "square-direction",
   "metadata": {
    "id": "square-direction"
   },
   "source": [
    "### 1.3.1 Implement a Linear Regression model that minimizes the MSE **without using any libraries**. You may use NumPy to vectorize your code, but *do not use numpy.polyfit* or anything similar.\n",
    "\n",
    "1.3.1.1 Explain how you plan to implement Linear Regression in 5-10 lines.\n",
    "\n",
    "1.3.1.2 Implement Linear Regression using `x_train` and `y_train` as the train dataset.\n",
    "\n",
    "1.3.2.3 Choose the best learning rate and print the learning rate for which you achieved the best MSE.\n",
    "\n",
    "1.2.1.4 Make a [Parity Plot](https://en.wikipedia.org/wiki/Parity_plot) of your model's bandgap predictions on the test set with the actual values."
   ]
  },
  {
   "cell_type": "markdown",
   "id": "frozen-forth",
   "metadata": {
    "id": "frozen-forth"
   },
   "source": [
    "<!-- your answer to 1.3.1.1 -->\n",
    "`ANSWER 1.3.1.1`\n",
    "In basic sense linear regression can be thought of finding relationship between two things i.e. Dependent variable (y) and independent variable (X) using a straight line.\n",
    " we need to find linear relationship, hence we have connected them with a line. It is well known that equation for a line is y = mX + c, which can also be written as Y=β0+β1X1.\n",
    " If this equation of line is completed, Y can be predicted for future x. Here from past few data, X and y are known. The aim is to find values of β0 and β1 to complete our equation.\n",
    " There can be various best fit lines, but Linear regression models try to make line such that the vertical distance between the line and the data points (that is, the residuals) is as small as possible. This is called “fitting the line to the data” and will be our ‘best fit line’."
   ]
  },
  {
   "cell_type": "code",
   "execution_count": 10,
   "id": "b52450a1",
   "metadata": {},
   "outputs": [
    {
     "name": "stdout",
     "output_type": "stream",
     "text": [
      "Shape of x_train: (240, 25)\n",
      "Shape of y_train: (240, 1)\n",
      "Shape of x_test: (60, 25)\n",
      "Shape of y_test: (60, 1)\n",
      "after adding 1 at 0th index :\n",
      "Shape of x_train: (240, 26)\n",
      "Shape of y_train: (240, 1)\n",
      "Shape of x_test: (60, 26)\n",
      "Shape of y_test: (60, 1)\n"
     ]
    }
   ],
   "source": [
    "x_test1 = pd.DataFrame(x_test)\n",
    "x_train1 = pd.DataFrame(x_train)\n",
    "y_test1 = pd.DataFrame(y_test)\n",
    "y_train1 = pd.DataFrame(y_train)\n",
    "print(\"Shape of x_train:\",x_train1.shape)\n",
    "print(\"Shape of y_train:\",y_train1.shape)\n",
    "print(\"Shape of x_test:\",x_test1.shape)\n",
    "print(\"Shape of y_test:\",y_test1.shape)\n",
    "\n",
    "\n",
    "ones  = np.ones((x_train1.shape[0],1))\n",
    "x_train1 = np.hstack((ones,x_train1))\n",
    "\n",
    "ones  = np.ones((x_test1.shape[0],1))\n",
    "x_test1  = np.hstack((ones,x_test1))\n",
    "\n",
    "print(\"after adding 1 at 0th index :\")\n",
    "\n",
    "print(\"Shape of x_train:\",x_train1.shape)\n",
    "print(\"Shape of y_train:\",y_train1.shape)\n",
    "print(\"Shape of x_test:\",x_test1.shape)\n",
    "print(\"Shape of y_test:\",y_test1.shape)\n"
   ]
  },
  {
   "cell_type": "code",
   "execution_count": 11,
   "id": "angry-depression",
   "metadata": {
    "id": "angry-depression"
   },
   "outputs": [],
   "source": [
    "# 1.3.1.2\n",
    "# implement Linear Regression\n",
    " \n",
    "    \n",
    "def Regression_model(x_train,y_train,alpha,iteration):\n",
    "    m = y_train.size\n",
    "    # print(x_train.shape)\n",
    "    # print(y_train.shape)        \n",
    "    theta = np.zeros((x_train.shape[1],1))\n",
    "    cost_list = []\n",
    "    for i in range (iteration):\n",
    "        y_pred = np.dot(x_train,theta)\n",
    "        ##cost function\n",
    "        cost = (1/(2*m))*np.sum(np.square(y_pred - y_train))\n",
    "        \n",
    "        ##gradient descent\n",
    "        d_theta = (1/m)*np.dot(x_train.T,y_pred - y_train)\n",
    "        \n",
    "        theta = theta - d_theta * alpha\n",
    "        \n",
    "        cost_list.append(cost)\n",
    "        \n",
    "        # if(i%(iteration/10) == 0):\n",
    "        #     print(\"Cost is :\",cost)\n",
    "        \n",
    "    return theta , cost_list\n"
   ]
  },
  {
   "cell_type": "code",
   "execution_count": 12,
   "id": "2426a6e8",
   "metadata": {},
   "outputs": [],
   "source": [
    "x_test1 = pd.DataFrame(x_test1)\n",
    "x_train1 = pd.DataFrame(x_train1)"
   ]
  },
  {
   "cell_type": "code",
   "execution_count": 13,
   "id": "b19c0ac4",
   "metadata": {
    "id": "b19c0ac4"
   },
   "outputs": [
    {
     "name": "stdout",
     "output_type": "stream",
     "text": [
      "At alpha 0.001 MSE is: 1.833169236341714\n",
      "At alpha 0.0001 MSE is: 4.579239303265535\n",
      "At alpha 0.005 MSE is: 0.15893161916006202\n",
      "At alpha 0.0005 MSE is: 2.95242484003415\n",
      "At alpha 5e-05 MSE is: 4.832512034172778\n",
      "At alpha 5e-06 MSE is: 5.061686328633731\n",
      "best learning rate 0.005  with MSE IS: 0.15893161916006202\n"
     ]
    }
   ],
   "source": [
    "# 1.3.2.3\n",
    "# try with different learning rates and choose the best one\n",
    "# 1.3.2.3\n",
    "# try with different learning rates and choose the best one\n",
    "learning_rate = [0.001,0.0001, 0.005, 0.0005, 0.00005, 0.000005]\n",
    "theta_vals =[]\n",
    "cost_lists =[]\n",
    "MSE = 99999.0\n",
    "alpha_learing_rate = 0.005\n",
    "for alpha in learning_rate:\n",
    "    iteration = 5000\n",
    "    theta , cost_list = Regression_model(x_train1,y_train1,alpha,iteration )\n",
    "    theta_vals.append(theta)\n",
    "    cost_lists.append(cost_list)\n",
    "    y_pred = np.dot(x_test1,theta)\n",
    "    ms = sqrt(mean_squared_error(y_test1, y_pred))\n",
    "    print(\"At alpha\",alpha,\"MSE is:\",ms)\n",
    "   \n",
    "    if MSE > ms:\n",
    "        MSE = ms\n",
    "        alpha_learing_rate = alpha\n",
    "    \n",
    "print(\"best learning rate\" , alpha_learing_rate,\" with MSE IS:\", MSE)   \n",
    "    "
   ]
  },
  {
   "cell_type": "code",
   "execution_count": 14,
   "id": "1e7c014a",
   "metadata": {},
   "outputs": [
    {
     "data": {
      "text/plain": [
       "array([[-4.00389166],\n",
       "       [-4.21730505],\n",
       "       [-4.22070852],\n",
       "       [-4.22875089],\n",
       "       [-4.23558605]])"
      ]
     },
     "execution_count": 14,
     "metadata": {},
     "output_type": "execute_result"
    }
   ],
   "source": [
    "##now apply at best learning rate\n",
    "theta , cost_list = Regression_model(x_train1,y_train1,alpha_learing_rate,iteration )\n",
    "y_pred = np.dot(x_test1,theta)\n",
    "y_pred[:5]"
   ]
  },
  {
   "cell_type": "code",
   "execution_count": 15,
   "id": "foster-center",
   "metadata": {
    "id": "foster-center"
   },
   "outputs": [
    {
     "data": {
      "image/png": "[encoded data removed]",
      "text/plain": [
       "<Figure size 504x504 with 1 Axes>"
      ]
     },
     "metadata": {
      "needs_background": "light"
     },
     "output_type": "display_data"
    }
   ],
   "source": [
    "# 1.3.1.4\n",
    "# Get the predictions of x_test into `y_pred`\n",
    "\n",
    "fig, ax = plt.subplots(figsize=(7,7))\n",
    "\n",
    "ax.scatter(y_test1, y_pred)\n",
    "\n",
    "lims = [\n",
    "    np.min([ax.get_xlim(), ax.get_ylim()]),\n",
    "    np.max([ax.get_xlim(), ax.get_ylim()]),\n",
    "]\n",
    "ax.plot(lims, lims, 'k-', alpha=0.75, zorder=0)\n",
    "ax.set_aspect('equal')\n",
    "ax.set_xlim(lims)\n",
    "ax.set_ylim(lims)\n",
    "\n",
    "ax.set_title('Parity Plot of Custom Linear Regression')\n",
    "ax.set_xlabel('Ground truth y-values')\n",
    "ax.set_ylabel('Predicted y-values')\n",
    "plt.show()"
   ]
  },
  {
   "cell_type": "markdown",
   "id": "dominant-chaos",
   "metadata": {
    "id": "dominant-chaos"
   },
   "source": [
    "### 1.3.2 Implement Ridge Regression\n",
    "\n",
    "1.3.2.1 Explain Ridge regression briefly in 1-2 lines.\n",
    "\n",
    "1.3.2.2 Implement Ridge regression and make a table of different RMSE scores you achieved with different values of alpha. What does the parameter `alpha` do?\n",
    "\n",
    "1.3.2.3 How does it affect the results here? Explain in 5-10 lines in total. (You can use scikit-learn from this cell onwards)\n",
    "\n",
    "1.3.2.4 Make a Parity Plot of Ridge Regression model's y-predictions on the test set with the actual values."
   ]
  },
  {
   "cell_type": "markdown",
   "id": "happy-cyprus",
   "metadata": {
    "id": "happy-cyprus"
   },
   "source": [
    "<!-- Your answer to 1.3.2.1 -->\n",
    "`1.3.2.1 Answer`\n",
    "\n",
    "Ridge regression is a model tuning method that is used to analyse any data that suffers from multicollinearity. This method performs L2 regularization. When the issue of multicollinearity occurs, least-squares are unbiased, and variances are large, this results in predicted values being far away from the actual values.\n",
    "The cost function for ridge regression:\n",
    "\n",
    "Min(||Y – X(theta)||^2 + λ||theta||^2)\n",
    "\n",
    "Lambda is the penalty term. λ given here is denoted by an alpha parameter in the ridge function. So, by changing the values of alpha, we are controlling the penalty term. The higher the values of alpha, the bigger is the penalty and therefore the magnitude of coefficients is reduced."
   ]
  },
  {
   "cell_type": "code",
   "execution_count": 16,
   "id": "02a50a51",
   "metadata": {
    "id": "02a50a51"
   },
   "outputs": [
    {
     "name": "stdout",
     "output_type": "stream",
     "text": [
      "At alpha 0.001 RMSE is: 0.07406137817163512\n",
      "At alpha 0.0001 RMSE is: 0.1461433202130837\n",
      "At alpha 0.005 RMSE is: 0.28008158063004995\n",
      "At alpha 0.0005 RMSE is: 0.03573414266369858\n",
      "At alpha 5e-05 RMSE is: 0.13925464345988897\n",
      "At alpha 5e-06 RMSE is: 0.010656300857802625\n"
     ]
    },
    {
     "data": {
      "text/html": [
       "<div>\n",
       "<style scoped>\n",
       "    .dataframe tbody tr th:only-of-type {\n",
       "        vertical-align: middle;\n",
       "    }\n",
       "\n",
       "    .dataframe tbody tr th {\n",
       "        vertical-align: top;\n",
       "    }\n",
       "\n",
       "    .dataframe thead th {\n",
       "        text-align: right;\n",
       "    }\n",
       "</style>\n",
       "<table border=\"1\" class=\"dataframe\">\n",
       "  <thead>\n",
       "    <tr style=\"text-align: right;\">\n",
       "      <th></th>\n",
       "      <th>alpha</th>\n",
       "      <th>RMSE</th>\n",
       "    </tr>\n",
       "  </thead>\n",
       "  <tbody>\n",
       "    <tr>\n",
       "      <th>0</th>\n",
       "      <td>0.001000</td>\n",
       "      <td>0.074061</td>\n",
       "    </tr>\n",
       "    <tr>\n",
       "      <th>1</th>\n",
       "      <td>0.000100</td>\n",
       "      <td>0.146143</td>\n",
       "    </tr>\n",
       "    <tr>\n",
       "      <th>2</th>\n",
       "      <td>0.005000</td>\n",
       "      <td>0.280082</td>\n",
       "    </tr>\n",
       "    <tr>\n",
       "      <th>3</th>\n",
       "      <td>0.000500</td>\n",
       "      <td>0.035734</td>\n",
       "    </tr>\n",
       "    <tr>\n",
       "      <th>4</th>\n",
       "      <td>0.000050</td>\n",
       "      <td>0.139255</td>\n",
       "    </tr>\n",
       "    <tr>\n",
       "      <th>5</th>\n",
       "      <td>0.000005</td>\n",
       "      <td>0.010656</td>\n",
       "    </tr>\n",
       "  </tbody>\n",
       "</table>\n",
       "</div>"
      ],
      "text/plain": [
       "      alpha      RMSE\n",
       "0  0.001000  0.074061\n",
       "1  0.000100  0.146143\n",
       "2  0.005000  0.280082\n",
       "3  0.000500  0.035734\n",
       "4  0.000050  0.139255\n",
       "5  0.000005  0.010656"
      ]
     },
     "execution_count": 16,
     "metadata": {},
     "output_type": "execute_result"
    }
   ],
   "source": [
    "# 1.3.2.2\n",
    "# you should not have imported sklearn before this point\n",
    "import sklearn\n",
    "from sklearn.linear_model import Ridge , Lasso\n",
    "from sklearn.metrics import mean_squared_error\n",
    "\n",
    "\n",
    "\n",
    "\n",
    "# implement Ridge regression and make a table where you explore the effect of different values of `alpha`\n",
    "learning_rate = [0.001,0.0001, 0.005, 0.0005, 0.00005, 0.000005]\n",
    "RMSE = []\n",
    "MSE = 99999.0\n",
    "best_alpha = 0.005\n",
    "for alpha in learning_rate:\n",
    "    rd = Ridge(alpha = alpha)\n",
    "    rd.fit(x_train,y_train)\n",
    "    rd.score(x_test,y_test)\n",
    "    y_pred = rd.predict(x_test)\n",
    "    ms = sqrt(mean_squared_error(y_test, y_pred))\n",
    "    print(\"At alpha\",alpha,\"RMSE is:\",ms)\n",
    "\n",
    "    if MSE > ms:\n",
    "        MSE = ms\n",
    "        best_alpha = alpha\n",
    "    RMSE.append(ms)\n",
    "\n",
    "learning_rate = pd.DataFrame(learning_rate, columns = [\"alpha\"])\n",
    "RMSE = pd.DataFrame(RMSE, columns = [\"RMSE\"])\n",
    "\n",
    "# ##Table\n",
    "df_all_cols = pd.concat([learning_rate, RMSE], axis = 1)\n",
    "df_all_cols"
   ]
  },
  {
   "attachments": {},
   "cell_type": "markdown",
   "id": "b42b9ff4",
   "metadata": {},
   "source": [
    "Alpha (α) is the penalty term that denotes the amount of shrinkage (or constraint) that will be implemented in the equation.\n"
   ]
  },
  {
   "attachments": {},
   "cell_type": "markdown",
   "id": "e54d36d9",
   "metadata": {
    "id": "e54d36d9"
   },
   "source": [
    "<!-- Your answer to 1.3.2.3 -->\n",
    "`1.3.2.3 Answer`\n",
    "Regularization is designed to penalize model complexity, therefore the higher the alpha, the less complex the model, decreasing the error due to variance (overfit). Alphas that are too high on the other hand increase the error due to bias (underfit). It is important, therefore to choose an optimal alpha such that the error is minimized in both directions.\n",
    "\n",
    "The AlphaSelection Visualizer demonstrates how different values of alpha influence model selection during the regularization of linear models. Generally speaking, alpha increases the affect of regularization, e.g. if alpha is zero there is no regularization and the higher the alpha, the more the regularization parameter influences the final model.\n",
    "\n",
    "So, now computation is decreased, somehow."
   ]
  },
  {
   "cell_type": "code",
   "execution_count": null,
   "id": "44835a62",
   "metadata": {},
   "outputs": [],
   "source": []
  },
  {
   "cell_type": "code",
   "execution_count": 17,
   "id": "049d4ac9",
   "metadata": {},
   "outputs": [
    {
     "data": {
      "text/plain": [
       "0.9996595384967797"
      ]
     },
     "execution_count": 17,
     "metadata": {},
     "output_type": "execute_result"
    }
   ],
   "source": [
    "rd = Ridge(alpha = best_alpha)\n",
    "rd.fit(x_train,y_train)\n",
    "y_pred = rd.predict(x_test)\n",
    "rd.score(x_test,y_test)"
   ]
  },
  {
   "cell_type": "code",
   "execution_count": 18,
   "id": "e9d2c1e8",
   "metadata": {
    "id": "e9d2c1e8"
   },
   "outputs": [
    {
     "data": {
      "image/png": "[encoded data removed]",
      "text/plain": [
       "<Figure size 504x504 with 1 Axes>"
      ]
     },
     "metadata": {
      "needs_background": "light"
     },
     "output_type": "display_data"
    }
   ],
   "source": [
    "# 1.3.2.4\n",
    "fig, ax = plt.subplots(figsize=(7,7))\n",
    "\n",
    "ax.scatter(y_test, y_pred)\n",
    "\n",
    "lims = [\n",
    "    np.min([ax.get_xlim(), ax.get_ylim()]),\n",
    "    np.max([ax.get_xlim(), ax.get_ylim()]),\n",
    "]\n",
    "ax.plot(lims, lims, 'k-', alpha=.75, zorder=0)\n",
    "ax.set_aspect('equal')\n",
    "ax.set_xlim(lims)\n",
    "ax.set_ylim(lims)\n",
    "\n",
    "ax.set_title('Parity Plot of Custom Linear Regression')\n",
    "ax.set_xlabel('Ground truth y-values')\n",
    "ax.set_ylabel('Predicted y-values')\n",
    "plt.show()"
   ]
  },
  {
   "cell_type": "markdown",
   "id": "popular-wonder",
   "metadata": {
    "id": "popular-wonder"
   },
   "source": [
    "### 1.3.3 Implement Lasso Regression\n",
    "1.3.3.1 Explain Lasso regression briefly in 1-2 lines.\n",
    "\n",
    "1.3.3.2 Implement Lasso regression and make a table of different RMSE scores you achieved with different values of alpha.\n",
    "\n",
    "1.3.3.3 What does the parameter `alpha` do? How does it affect the results here? Explain in 5-10 lines in total.\n",
    "\n",
    "1.3.3.4 Make a Parity Plot of Lasso Regression model's y-predictions on the test set with the actual values."
   ]
  },
  {
   "attachments": {},
   "cell_type": "markdown",
   "id": "mV9BlPIjm-K1",
   "metadata": {
    "id": "mV9BlPIjm-K1"
   },
   "source": [
    "<!-- Your answer to 1.3.3.1 -->\n",
    "`1.3.3.1 Answer`                            \n",
    "Lasso (least absolute shrinkage and selection operator; also Lasso or LASSO) is a regression analysis method that performs both variable selection and regularization in order to enhance the prediction accuracy and interpretability of the resulting statistical model. \n",
    "It allows feature selection also by neglecting non- necessary features\n"
   ]
  },
  {
   "cell_type": "code",
   "execution_count": 19,
   "id": "09148bbc",
   "metadata": {
    "id": "09148bbc"
   },
   "outputs": [
    {
     "name": "stdout",
     "output_type": "stream",
     "text": [
      "At alpha 0.01 RMSE is: 0.042419962550167355\n",
      "At alpha 0.0001 RMSE is: 0.6124899982744757\n",
      "At alpha 0.005 RMSE is: 0.41062093231156366\n",
      "At alpha 0.0005 RMSE is: 0.2685450847293934\n",
      "At alpha 5e-05 RMSE is: 0.6388579472705369\n",
      "At alpha 5e-06 RMSE is: 0.4085127799393423\n"
     ]
    },
    {
     "data": {
      "text/html": [
       "<div>\n",
       "<style scoped>\n",
       "    .dataframe tbody tr th:only-of-type {\n",
       "        vertical-align: middle;\n",
       "    }\n",
       "\n",
       "    .dataframe tbody tr th {\n",
       "        vertical-align: top;\n",
       "    }\n",
       "\n",
       "    .dataframe thead th {\n",
       "        text-align: right;\n",
       "    }\n",
       "</style>\n",
       "<table border=\"1\" class=\"dataframe\">\n",
       "  <thead>\n",
       "    <tr style=\"text-align: right;\">\n",
       "      <th></th>\n",
       "      <th>alpha</th>\n",
       "      <th>RMSE</th>\n",
       "    </tr>\n",
       "  </thead>\n",
       "  <tbody>\n",
       "    <tr>\n",
       "      <th>0</th>\n",
       "      <td>0.010000</td>\n",
       "      <td>0.042420</td>\n",
       "    </tr>\n",
       "    <tr>\n",
       "      <th>1</th>\n",
       "      <td>0.000100</td>\n",
       "      <td>0.612490</td>\n",
       "    </tr>\n",
       "    <tr>\n",
       "      <th>2</th>\n",
       "      <td>0.005000</td>\n",
       "      <td>0.410621</td>\n",
       "    </tr>\n",
       "    <tr>\n",
       "      <th>3</th>\n",
       "      <td>0.000500</td>\n",
       "      <td>0.268545</td>\n",
       "    </tr>\n",
       "    <tr>\n",
       "      <th>4</th>\n",
       "      <td>0.000050</td>\n",
       "      <td>0.638858</td>\n",
       "    </tr>\n",
       "    <tr>\n",
       "      <th>5</th>\n",
       "      <td>0.000005</td>\n",
       "      <td>0.408513</td>\n",
       "    </tr>\n",
       "  </tbody>\n",
       "</table>\n",
       "</div>"
      ],
      "text/plain": [
       "      alpha      RMSE\n",
       "0  0.010000  0.042420\n",
       "1  0.000100  0.612490\n",
       "2  0.005000  0.410621\n",
       "3  0.000500  0.268545\n",
       "4  0.000050  0.638858\n",
       "5  0.000005  0.408513"
      ]
     },
     "execution_count": 19,
     "metadata": {},
     "output_type": "execute_result"
    }
   ],
   "source": [
    "# 1.3.3.2\n",
    "# implement Lasso regression and make a table where you explore the effect of different values of `alpha`\n",
    "learning_rate = [0.01,0.0001, 0.005, 0.0005, 0.00005, 0.000005]\n",
    "RMSE = []\n",
    "MSE = 99999.0\n",
    "best_alpha = 0.005\n",
    "for alpha in learning_rate:\n",
    "    ls = Lasso(alpha = alpha)\n",
    "    ls.fit(x_train,y_train)\n",
    "    ls.score(x_test,y_test)\n",
    "    y_pred = ls.predict(x_test)\n",
    "    ms = sqrt(mean_squared_error(y_test, y_pred))\n",
    "    print(\"At alpha\",alpha,\"RMSE is:\",ms)\n",
    "\n",
    "    if MSE > ms:\n",
    "        MSE = ms\n",
    "        best_alpha = alpha\n",
    "    RMSE.append(ms)\n",
    "\n",
    "learning_rate = pd.DataFrame(learning_rate, columns = [\"alpha\"])\n",
    "RMSE = pd.DataFrame(RMSE, columns = [\"RMSE\"])\n",
    "\n",
    "# ##Table\n",
    "df_all_cols = pd.concat([learning_rate, RMSE], axis = 1)\n",
    "df_all_cols"
   ]
  },
  {
   "cell_type": "code",
   "execution_count": 20,
   "id": "45bdddff",
   "metadata": {},
   "outputs": [
    {
     "data": {
      "text/plain": [
       "0.9946049480974413"
      ]
     },
     "execution_count": 20,
     "metadata": {},
     "output_type": "execute_result"
    }
   ],
   "source": [
    "ls = Lasso(alpha = .01)\n",
    "ls.fit(x_train,y_train)\n",
    "y_pred = ls.predict(x_test)\n",
    "ls.score(x_test,y_test)"
   ]
  },
  {
   "attachments": {},
   "cell_type": "markdown",
   "id": "Hq5eyeqem-K2",
   "metadata": {
    "id": "Hq5eyeqem-K2"
   },
   "source": [
    "<!-- Your answer to 1.3.3.3 -->\n",
    "`1.3.3.3 Answer`\n",
    "    y^ = w[0]*x[0] + w[1]*x[1] + ..... + w[m]*x[n] + b ---eq1\n",
    "\n",
    "In this shrinkage technique, the coefficients determined in the linear model from equation eq1. above are shrunk towards the central point as the mean by introducing a penalization factor called the alpha α (or sometimes lamda) values.\n",
    "\n",
    "Due to the fact that coefficients will be shrunk towards a mean of zero, less important features in a dataset are eliminated when penalized. The shrinkage of these coefficients based on the alpha value provided leads to some form of automatic feature selection, as input variables are removed in an effective approach."
   ]
  },
  {
   "cell_type": "code",
   "execution_count": 21,
   "id": "accompanied-worst",
   "metadata": {
    "id": "accompanied-worst"
   },
   "outputs": [
    {
     "data": {
      "image/png": "[encoded data removed]",
      "text/plain": [
       "<Figure size 504x504 with 1 Axes>"
      ]
     },
     "metadata": {
      "needs_background": "light"
     },
     "output_type": "display_data"
    }
   ],
   "source": [
    "# 1.3.3.4\n",
    "# 1.3.2.4\n",
    "fig, ax = plt.subplots(figsize=(7,7))\n",
    "\n",
    "ax.scatter(y_test, y_pred)\n",
    "\n",
    "lims = [\n",
    "    np.min([ax.get_xlim(), ax.get_ylim()]),\n",
    "    np.max([ax.get_xlim(), ax.get_ylim()]),\n",
    "]\n",
    "ax.plot(lims, lims, 'k-', alpha=.75, zorder=0)\n",
    "ax.set_aspect('equal')\n",
    "ax.set_xlim(lims)\n",
    "ax.set_ylim(lims)\n",
    "\n",
    "ax.set_title('Parity Plot of Custom Linear Regression')\n",
    "ax.set_xlabel('Ground truth y-values')\n",
    "ax.set_ylabel('Predicted y-values')\n",
    "plt.show()"
   ]
  }
 ],
 "metadata": {
  "colab": {
   "provenance": []
  },
  "kernelspec": {
   "display_name": "Python 3",
   "language": "python",
   "name": "python3"
  },
  "language_info": {
   "codemirror_mode": {
    "name": "ipython",
    "version": 3
   },
   "file_extension": ".py",
   "mimetype": "text/x-python",
   "name": "python",
   "nbconvert_exporter": "python",
   "pygments_lexer": "ipython3",
   "version": "3.10.6 (main, Nov 14 2022, 16:10:14) [GCC 11.3.0]"
  },
  "vscode": {
   "interpreter": {
    "hash": "916dbcbb3f70747c44a77c7bcd40155683ae19c65e1c03b4aa3499c5328201f1"
   }
  }
 },
 "nbformat": 4,
 "nbformat_minor": 5
}
